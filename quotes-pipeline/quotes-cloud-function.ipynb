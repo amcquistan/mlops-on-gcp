{
 "cells": [
  {
   "cell_type": "markdown",
   "id": "63194141",
   "metadata": {},
   "source": [
    "# Quotes Pipeline\n",
    "\n",
    "<img src=\"./Quote-Sentiment-Pipeline.jpg\">"
   ]
  },
  {
   "cell_type": "markdown",
   "id": "ce1294fa",
   "metadata": {},
   "source": [
    "## Building the Quote Fetcher Cloud Function\n",
    "\n",
    "Steps are modified from GCP docs tutorial [Using Pub/Sub to trigger a Cloud Function](https://cloud.google.com/scheduler/docs/tut-pub-sub) along with the Quick Start example for [Functions Framework GitHub README](https://github.com/GoogleCloudPlatform/functions-framework-python)\n",
    "\n",
    "Steps:\n",
    "\n",
    "1) Create Pub/Sub topic to write quotes to from Quote Fetcher Cloud Function\n",
    "\n",
    "2) Create Quote Fetcher Cloud Function \n",
    "\n",
    "3) Create Pub/Sub topic to trigger Quote Fetcher Cloud Function\n",
    "\n",
    "4) Create Cloud Scheduler job to invoke Pub/Sub topic\n"
   ]
  },
  {
   "cell_type": "markdown",
   "id": "cb6056e1",
   "metadata": {},
   "source": [
    "Create a pubsub topic for the Quote Fetcher cloud function to publish quotes to."
   ]
  },
  {
   "cell_type": "code",
   "execution_count": 48,
   "id": "2ad9783b",
   "metadata": {},
   "outputs": [
    {
     "name": "stdout",
     "output_type": "stream",
     "text": [
      "Created topic [projects/qwiklabs-gcp-04-2ad6a04dc593/topics/quotes].\n"
     ]
    }
   ],
   "source": [
    "! gcloud pubsub topics create quotes"
   ]
  },
  {
   "cell_type": "code",
   "execution_count": 11,
   "id": "f841033b",
   "metadata": {},
   "outputs": [
    {
     "name": "stdout",
     "output_type": "stream",
     "text": [
      "creating pubsub_schd directory\n"
     ]
    }
   ],
   "source": [
    "%%bash\n",
    "\n",
    "if [ ! -d quote_fetcher ]\n",
    "then\n",
    "  echo \"creating quote_fetcher directory\"\n",
    "  mkdir quote_fetcher\n",
    "fi\n",
    "\n",
    "if [ ! -d pubsub_schd ]\n",
    "then\n",
    "  echo \"creating pubsub_schd directory\"\n",
    "  mkdir pubsub_schd\n",
    "fi"
   ]
  },
  {
   "cell_type": "markdown",
   "id": "5c134aba",
   "metadata": {},
   "source": [
    "Write requirements.txt for Quote Fetcher Cloud Function"
   ]
  },
  {
   "cell_type": "code",
   "execution_count": 2,
   "id": "30d1aeaa",
   "metadata": {},
   "outputs": [
    {
     "name": "stdout",
     "output_type": "stream",
     "text": [
      "Overwriting ./quote_fetcher/requirements.txt\n"
     ]
    }
   ],
   "source": [
    "%%writefile ./quote_fetcher/requirements.txt\n",
    "\n",
    "requests>=2.26.0,<2.27.0\n",
    "beautifulsoup4>=4.9.3,<4.10.0\n",
    "pydantic>=1.8.2,<1.9.0\n",
    "google-cloud-language>=2.2.2,<2.3.0"
   ]
  },
  {
   "cell_type": "markdown",
   "id": "1230f9a6",
   "metadata": {},
   "source": [
    "Write Quote Fetcher Cloud Function source code"
   ]
  },
  {
   "cell_type": "code",
   "execution_count": 54,
   "id": "75bc6a26",
   "metadata": {},
   "outputs": [
    {
     "name": "stdout",
     "output_type": "stream",
     "text": [
      "Overwriting ./quote_fetcher/main.py\n"
     ]
    }
   ],
   "source": [
    "%%writefile ./quote_fetcher/main.py\n",
    "\"\"\"\n",
    "Cloud Function to fetch quotes from quotes.toscrape.com/random \n",
    "and publish them to PubSub\n",
    "\"\"\"\n",
    "\n",
    "import json\n",
    "import os\n",
    "import typing\n",
    "\n",
    "import requests\n",
    "\n",
    "from bs4 import BeautifulSoup\n",
    "from google.cloud import language_v1, pubsub_v1\n",
    "\n",
    "from pydantic import BaseModel\n",
    "\n",
    "PROJECT_ID = os.environ['PROJECT_ID']\n",
    "TOPIC_ID = os.environ['TOPIC_ID']\n",
    "\n",
    "\n",
    "class Quote(BaseModel):\n",
    "    text : str\n",
    "    author : str\n",
    "    tags : typing.Sequence[str]\n",
    "    sentiment : typing.Optional[float]\n",
    "    magnitude : typing.Optional[float]\n",
    "    \n",
    "    def calc_sentiment(self):\n",
    "        client = language_v1.LanguageServiceClient()\n",
    "        doc = {\n",
    "          'content': self.text,\n",
    "          'type_': language_v1.Document.Type.PLAIN_TEXT,\n",
    "          'language': 'en' \n",
    "        }\n",
    "        \n",
    "        request = {\n",
    "            'document': doc,\n",
    "            'encoding_type': language_v1.EncodingType.UTF8\n",
    "        }\n",
    "        response = client.analyze_sentiment(request)\n",
    "        \n",
    "        self.sentiment = response.document_sentiment.score\n",
    "        self.magnitude = response.document_sentiment.magnitude\n",
    "        \n",
    "\n",
    "def fetch_quote(events, context):\n",
    "    quote_url = 'https://quotes.toscrape.com/random'\n",
    "\n",
    "    response = requests.get(quote_url)\n",
    "\n",
    "    soup = BeautifulSoup(response.content, 'html.parser')\n",
    "\n",
    "    quote_el = soup.find('div', class_='quote')\n",
    "\n",
    "    quote = Quote(\n",
    "        text=quote_el.find('span', class_='text').get_text(),\n",
    "        author=quote_el.find('small', class_='author').get_text(),\n",
    "        tags=[el.get_text() for el in quote_el.find_all('a', class_='tag')]\n",
    "    )\n",
    "\n",
    "    quote.calc_sentiment()\n",
    "    \n",
    "    # TODO: publish to pubsub topic\n",
    "    \n",
    "    quote_data = quote.dict()\n",
    "    print(\"PROJECT_ID \" + PROJECT_ID)\n",
    "    print(\"TOPIC_ID \" + TOPIC_ID)\n",
    "    print(quote_data)\n",
    "    \n",
    "    publisher = pubsub_v1.PublisherClient()\n",
    "    topic_path = publisher.topic_path(PROJECT_ID, TOPIC_ID)\n",
    "    publisher.publish(topic_path, json.dumps(quote_data).encode('utf-8'))\n",
    "    \n",
    "    return quote_data"
   ]
  },
  {
   "cell_type": "code",
   "execution_count": 55,
   "id": "7cebea41",
   "metadata": {},
   "outputs": [
    {
     "name": "stdout",
     "output_type": "stream",
     "text": [
      "Overwriting ./quote_fetcher/deploy-cloud-function.sh\n"
     ]
    }
   ],
   "source": [
    "%%writefile ./quote_fetcher/deploy-cloud-function.sh\n",
    "\n",
    "#!/bin/bash\n",
    "\n",
    "if [ -d quote_fetcher ]\n",
    "then\n",
    "  cd quote_fetcher\n",
    "fi\n",
    "\n",
    "set -ex\n",
    "\n",
    "PROJECT_ID=$(gcloud config get-value project)\n",
    "TOPIC_ID=quotes\n",
    "\n",
    "gcloud functions deploy quote_fetcher \\\n",
    "  --set-env-vars PROJECT_ID=$PROJECT_ID,TOPIC_ID=$TOPIC_ID \\\n",
    "  --entry-point fetch_quote \\\n",
    "  --runtime python37 \\\n",
    "  --trigger-topic quote-fetcher-topic"
   ]
  },
  {
   "cell_type": "markdown",
   "id": "ab9acf6c",
   "metadata": {},
   "source": [
    "Deploy the Quote Fetcher Cloud Function "
   ]
  },
  {
   "cell_type": "code",
   "execution_count": 56,
   "id": "c1dcf72c",
   "metadata": {},
   "outputs": [
    {
     "name": "stdout",
     "output_type": "stream",
     "text": [
      "availableMemoryMb: 256\n",
      "buildId: 26ae3d5e-cd07-47f4-9d22-fb2e11e21dbd\n",
      "buildName: projects/774131484409/locations/us-central1/builds/26ae3d5e-cd07-47f4-9d22-fb2e11e21dbd\n",
      "entryPoint: fetch_quote\n",
      "environmentVariables:\n",
      "  PROJECT_ID: qwiklabs-gcp-04-2ad6a04dc593\n",
      "  TOPIC_ID: quotes\n",
      "eventTrigger:\n",
      "  eventType: google.pubsub.topic.publish\n",
      "  failurePolicy: {}\n",
      "  resource: projects/qwiklabs-gcp-04-2ad6a04dc593/topics/quote-fetcher-topic\n",
      "  service: pubsub.googleapis.com\n",
      "ingressSettings: ALLOW_ALL\n",
      "labels:\n",
      "  deployment-tool: cli-gcloud\n",
      "name: projects/qwiklabs-gcp-04-2ad6a04dc593/locations/us-central1/functions/quote_fetcher\n",
      "runtime: python37\n",
      "serviceAccountEmail: qwiklabs-gcp-04-2ad6a04dc593@appspot.gserviceaccount.com\n",
      "sourceUploadUrl: https://storage.googleapis.com/gcf-upload-us-central1-0590737b-324c-4a57-b58b-fd974ee68e4f/dafde907-e63e-49a2-af06-913d2ad64842.zip\n",
      "status: ACTIVE\n",
      "timeout: 60s\n",
      "updateTime: '2021-08-20T18:54:22.876Z'\n",
      "versionId: '11'\n"
     ]
    },
    {
     "name": "stderr",
     "output_type": "stream",
     "text": [
      "+++ gcloud config get-value project\n",
      "++ PROJECT_ID=qwiklabs-gcp-04-2ad6a04dc593\n",
      "++ TOPIC_ID=quotes\n",
      "++ gcloud functions deploy quote_fetcher --set-env-vars PROJECT_ID=qwiklabs-gcp-04-2ad6a04dc593,TOPIC_ID=quotes --entry-point fetch_quote --runtime python37 --trigger-topic quote-fetcher-topic\n",
      "Deploying function (may take a while - up to 2 minutes)...\n",
      ".\n",
      "For Cloud Build Logs, visit: https://console.cloud.google.com/cloud-build/builds;region=us-central1/54d6c459-b086-4628-997f-47ab7f04daaa?project=774131484409\n",
      "............................done.\n"
     ]
    }
   ],
   "source": [
    "%%bash\n",
    "\n",
    "chmod +x quote_fetcher/deploy-cloud-function.sh\n",
    "\n",
    "./quote_fetcher/deploy-cloud-function.sh"
   ]
  },
  {
   "cell_type": "markdown",
   "id": "5a58fe84",
   "metadata": {},
   "source": [
    "Publish some data to the quote-fetcher-topic Pub/Sub topic"
   ]
  },
  {
   "cell_type": "code",
   "execution_count": 61,
   "id": "8c9a05b7",
   "metadata": {},
   "outputs": [
    {
     "name": "stdout",
     "output_type": "stream",
     "text": [
      "messageIds:\n",
      "- '2904445036089587'\n"
     ]
    }
   ],
   "source": [
    "! gcloud pubsub topics publish quote-fetcher-topic --message \"this is a test message\""
   ]
  },
  {
   "cell_type": "code",
   "execution_count": 62,
   "id": "c9500e4f",
   "metadata": {},
   "outputs": [
    {
     "name": "stdout",
     "output_type": "stream",
     "text": [
      "LEVEL  NAME           EXECUTION_ID  TIME_UTC                 LOG\n",
      "D      quote_fetcher  ibww3r39xc0u  2021-08-20 18:54:57.443  Function execution took 378 ms, finished with status: 'ok'\n",
      "I      quote_fetcher  ibww3r39xc0u  2021-08-20 18:54:57.379  {'text': '“Any fool can know. The point is to understand.”', 'author': 'Albert Einstein', 'tags': ['knowledge', 'learning', 'understanding', 'wisdom'], 'sentiment': -0.4000000059604645, 'magnitude': 1.0}\n",
      "I      quote_fetcher  ibww3r39xc0u  2021-08-20 18:54:57.379  TOPIC_ID quotes\n",
      "I      quote_fetcher  ibww3r39xc0u  2021-08-20 18:54:57.379  PROJECT_ID qwiklabs-gcp-04-2ad6a04dc593\n",
      "D      quote_fetcher  ibww3r39xc0u  2021-08-20 18:54:57.066  Function execution started\n",
      "D      quote_fetcher  ibwwhjj1rgdk  2021-08-20 18:54:55.964  Function execution took 758 ms, finished with status: 'ok'\n",
      "I      quote_fetcher  ibwwhjj1rgdk  2021-08-20 18:54:55.941  {'text': \"“That's the problem with drinking, I thought, as I poured myself a drink. If something bad happens you drink in an attempt to forget; if something good happens you drink in order to celebrate; and if nothing happens you drink to make something happen.”\", 'author': 'Charles Bukowski', 'tags': ['alcohol'], 'sentiment': -0.6000000238418579, 'magnitude': 1.2000000476837158}\n",
      "I      quote_fetcher  ibwwhjj1rgdk  2021-08-20 18:54:55.941  TOPIC_ID quotes\n",
      "I      quote_fetcher  ibwwhjj1rgdk  2021-08-20 18:54:55.941  PROJECT_ID qwiklabs-gcp-04-2ad6a04dc593\n",
      "D      quote_fetcher  ibwwhjj1rgdk  2021-08-20 18:54:55.208  Function execution started\n",
      "D      quote_fetcher  4pvh7qo8j73z  2021-08-20 18:54:38.166  Function execution took 2540 ms, finished with status: 'crash'\n",
      "E      quote_fetcher  4pvh7qo8j73z  2021-08-20 18:54:38.154  Traceback (most recent call last):\n",
      "                                                               File \"/env/local/lib/python3.7/site-packages/google/cloud/functions/worker_v2.py\", line 449, in run_background_function\n",
      "                                                                 _function_handler.invoke_user_function(event_object)\n",
      "                                                               File \"/env/local/lib/python3.7/site-packages/google/cloud/functions/worker_v2.py\", line 268, in invoke_user_function\n",
      "                                                                 return call_user_function(request_or_event)\n",
      "                                                               File \"/env/local/lib/python3.7/site-packages/google/cloud/functions/worker_v2.py\", line 265, in call_user_function\n",
      "                                                                 event_context.Context(**request_or_event.context))\n",
      "                                                               File \"/user_code/main.py\", line 67, in fetch_quote\n",
      "                                                                 print(\"TOPIC_ID \" + TOPIC_ID)\n",
      "                                                             NameError: name 'TOPIC_ID' is not defined\n"
     ]
    }
   ],
   "source": [
    "! gcloud functions logs read quote_fetcher --limit 12"
   ]
  },
  {
   "cell_type": "markdown",
   "id": "ba3f3626",
   "metadata": {},
   "source": [
    "In cloud shell runt he following.\n",
    "\n",
    "```sh\n",
    "gcloud services enable cloudscheduler.googleapis.com\n",
    "\n",
    "export PROJECT_ID=$(gcloud config get-value project)\n",
    "gcloud app create --project $PROJECT_ID --region us-central\n",
    "\n",
    "gcloud scheduler jobs create pubsub quotefetcher \\\n",
    "  --schedule \"*/2 * * * *\" \\\n",
    "  --topic quote-fetcher-topic \\\n",
    "  --message-body \"fetch quote\"\n",
    "```"
   ]
  },
  {
   "cell_type": "code",
   "execution_count": 14,
   "id": "75e90846",
   "metadata": {},
   "outputs": [
    {
     "name": "stdout",
     "output_type": "stream",
     "text": [
      "/bin/bash: ./quote_fetcher/launch.sh: Permission denied\n"
     ]
    }
   ],
   "source": []
  },
  {
   "cell_type": "code",
   "execution_count": 11,
   "id": "0c756202",
   "metadata": {},
   "outputs": [
    {
     "name": "stdout",
     "output_type": "stream",
     "text": [
      "total 80\n",
      "-rw-r--r-- 1 jupyter jupyter 64369 Aug 20 15:54 Quote-Sentiment-Pipeline.jpg\n",
      "drwxr-xr-x 2 jupyter jupyter  4096 Aug 20 16:17 quote_fetcher\n",
      "-rw-r--r-- 1 jupyter jupyter 11507 Aug 20 16:19 quotes-pipeline.ipynb\n"
     ]
    }
   ],
   "source": [
    "! ls -l"
   ]
  },
  {
   "cell_type": "code",
   "execution_count": null,
   "id": "1ceb0d90",
   "metadata": {},
   "outputs": [],
   "source": []
  },
  {
   "cell_type": "code",
   "execution_count": null,
   "id": "624de1ba",
   "metadata": {},
   "outputs": [],
   "source": []
  }
 ],
 "metadata": {
  "environment": {
   "name": "tf2-gpu.2-3.m76",
   "type": "gcloud",
   "uri": "gcr.io/deeplearning-platform-release/tf2-gpu.2-3:m76"
  },
  "kernelspec": {
   "display_name": "Python 3",
   "language": "python",
   "name": "python3"
  },
  "language_info": {
   "codemirror_mode": {
    "name": "ipython",
    "version": 3
   },
   "file_extension": ".py",
   "mimetype": "text/x-python",
   "name": "python",
   "nbconvert_exporter": "python",
   "pygments_lexer": "ipython3",
   "version": "3.7.10"
  }
 },
 "nbformat": 4,
 "nbformat_minor": 5
}
