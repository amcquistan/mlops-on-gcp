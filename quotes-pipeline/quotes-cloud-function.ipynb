{
 "cells": [
  {
   "cell_type": "markdown",
   "id": "a00c1a19",
   "metadata": {},
   "source": [
    "# Quotes Pipeline\n",
    "\n",
    "<img src=\"./Quote-Sentiment-Pipeline.jpg\">"
   ]
  },
  {
   "cell_type": "markdown",
   "id": "12f80e5d",
   "metadata": {},
   "source": [
    "## Building the Quote Fetcher Cloud Function\n",
    "\n",
    "Steps are modified from GCP docs tutorial [Using Pub/Sub to trigger a Cloud Function](https://cloud.google.com/scheduler/docs/tut-pub-sub) along with the Quick Start example for [Functions Framework GitHub README](https://github.com/GoogleCloudPlatform/functions-framework-python)\n",
    "\n",
    "Quick View of Steps:\n",
    "\n",
    "1) Create Pub/Sub topic to write quotes to from Quote Fetcher Cloud Function\n",
    "\n",
    "2) Create Quote Fetcher Cloud Function \n",
    "\n",
    "3) Create Pub/Sub topic to trigger Quote Fetcher Cloud Function\n",
    "\n",
    "4) Create Cloud Scheduler job to invoke Pub/Sub topic\n"
   ]
  },
  {
   "cell_type": "markdown",
   "id": "23a81714",
   "metadata": {},
   "source": [
    "__Step 1:__ Create a pubsub topic for the Quote Fetcher cloud function to publish quotes to."
   ]
  },
  {
   "cell_type": "code",
   "execution_count": 48,
   "id": "3887b72e",
   "metadata": {},
   "outputs": [
    {
     "name": "stdout",
     "output_type": "stream",
     "text": [
      "Created topic [projects/qwiklabs-gcp-04-2ad6a04dc593/topics/quotes].\n"
     ]
    }
   ],
   "source": [
    "! gcloud pubsub topics create quotes"
   ]
  },
  {
   "cell_type": "markdown",
   "id": "cb2854a9",
   "metadata": {},
   "source": [
    "__Step 2:__ Create Quote Fetcher Cloud Function"
   ]
  },
  {
   "cell_type": "markdown",
   "id": "8fe028ec",
   "metadata": {},
   "source": [
    "First need a directory to hold the source code in."
   ]
  },
  {
   "cell_type": "code",
   "execution_count": 11,
   "id": "ad1dbe8c",
   "metadata": {},
   "outputs": [
    {
     "name": "stdout",
     "output_type": "stream",
     "text": [
      "creating pubsub_schd directory\n"
     ]
    }
   ],
   "source": [
    "%%bash\n",
    "\n",
    "if [ ! -d quote_fetcher ]\n",
    "then\n",
    "  echo \"creating quote_fetcher directory\"\n",
    "  mkdir quote_fetcher\n",
    "fi\n",
    "\n",
    "if [ ! -d pubsub_schd ]\n",
    "then\n",
    "  echo \"creating pubsub_schd directory\"\n",
    "  mkdir pubsub_schd\n",
    "fi"
   ]
  },
  {
   "cell_type": "markdown",
   "id": "213ce00e",
   "metadata": {},
   "source": [
    "Write requirements.txt for Quote Fetcher Cloud Function Python dependencies"
   ]
  },
  {
   "cell_type": "code",
   "execution_count": 35,
   "id": "954aa67e",
   "metadata": {},
   "outputs": [
    {
     "name": "stdout",
     "output_type": "stream",
     "text": [
      "Overwriting ./quote_fetcher/requirements.txt\n"
     ]
    }
   ],
   "source": [
    "%%writefile ./quote_fetcher/requirements.txt\n",
    "google-cloud-pubsub==2.7.0\n",
    "requests>=2.26.0,<2.27.0\n",
    "beautifulsoup4>=4.9.3,<4.10.0\n",
    "pydantic>=1.8.2,<1.9.0\n",
    "# google-cloud-language>=2.2.2,<2.3.0"
   ]
  },
  {
   "cell_type": "markdown",
   "id": "700c4f13",
   "metadata": {},
   "source": [
    "Write Quote Fetcher Cloud Function source code"
   ]
  },
  {
   "cell_type": "code",
   "execution_count": 36,
   "id": "3cccf127",
   "metadata": {},
   "outputs": [
    {
     "name": "stdout",
     "output_type": "stream",
     "text": [
      "Overwriting ./quote_fetcher/main.py\n"
     ]
    }
   ],
   "source": [
    "%%writefile ./quote_fetcher/main.py\n",
    "\"\"\"\n",
    "Cloud Function to fetch quotes from quotes.toscrape.com/random \n",
    "and publish them to PubSub\n",
    "\"\"\"\n",
    "\n",
    "import json\n",
    "import os\n",
    "import typing\n",
    "\n",
    "import requests\n",
    "\n",
    "from bs4 import BeautifulSoup\n",
    "from google.cloud import pubsub_v1\n",
    "\n",
    "from pydantic import BaseModel\n",
    "\n",
    "PROJECT_ID = os.environ['PROJECT_ID']\n",
    "TOPIC_ID = os.environ['TOPIC_ID']\n",
    "\n",
    "\n",
    "class Quote(BaseModel):\n",
    "    text : str\n",
    "    author : str\n",
    "    tags : typing.Sequence[str]\n",
    "    sentiment : typing.Optional[float]\n",
    "    magnitude : typing.Optional[float]\n",
    "        \n",
    "\n",
    "def fetch_quote(events, context):\n",
    "    quote_url = 'https://quotes.toscrape.com/random'\n",
    "\n",
    "    response = requests.get(quote_url)\n",
    "\n",
    "    soup = BeautifulSoup(response.content, 'html.parser')\n",
    "\n",
    "    quote_el = soup.find('div', class_='quote')\n",
    "\n",
    "    quote = Quote(\n",
    "        text=quote_el.find('span', class_='text').get_text(),\n",
    "        author=quote_el.find('small', class_='author').get_text(),\n",
    "        tags=[el.get_text() for el in quote_el.find_all('a', class_='tag')]\n",
    "    )\n",
    "    \n",
    "    quote_data = quote.dict()\n",
    "    print(\"PROJECT_ID \" + PROJECT_ID)\n",
    "    print(\"TOPIC_ID \" + TOPIC_ID)\n",
    "    print(quote_data)\n",
    "    \n",
    "    publisher = pubsub_v1.PublisherClient()\n",
    "    topic_path = publisher.topic_path(PROJECT_ID, TOPIC_ID)\n",
    "    publisher.publish(topic_path, json.dumps(quote_data).encode('utf-8'))\n",
    "    \n",
    "    return quote_data"
   ]
  },
  {
   "cell_type": "markdown",
   "id": "fdf043e9",
   "metadata": {},
   "source": [
    "__Step 3:__ Write a helper deployment shell script which also creates a Pub/Sub Topic"
   ]
  },
  {
   "cell_type": "code",
   "execution_count": 37,
   "id": "0c1b04e1",
   "metadata": {},
   "outputs": [
    {
     "name": "stdout",
     "output_type": "stream",
     "text": [
      "Overwriting ./quote_fetcher/deploy-cloud-function.sh\n"
     ]
    }
   ],
   "source": [
    "%%writefile ./quote_fetcher/deploy-cloud-function.sh\n",
    "\n",
    "#!/bin/bash\n",
    "\n",
    "if [ -d quote_fetcher ]\n",
    "then\n",
    "  cd quote_fetcher\n",
    "fi\n",
    "\n",
    "set -ex\n",
    "\n",
    "PROJECT_ID=$(gcloud config get-value project)\n",
    "TOPIC_ID=quotes\n",
    "\n",
    "gcloud functions deploy quote_fetcher \\\n",
    "  --set-env-vars PROJECT_ID=$PROJECT_ID,TOPIC_ID=$TOPIC_ID \\\n",
    "  --entry-point fetch_quote \\\n",
    "  --runtime python37 \\\n",
    "  --trigger-topic quote-fetcher-topic"
   ]
  },
  {
   "cell_type": "markdown",
   "id": "35ef909f",
   "metadata": {},
   "source": [
    "Deploy the Quote Fetcher Cloud Function "
   ]
  },
  {
   "cell_type": "code",
   "execution_count": 38,
   "id": "2f47e9dd",
   "metadata": {},
   "outputs": [
    {
     "name": "stdout",
     "output_type": "stream",
     "text": [
      "availableMemoryMb: 256\n",
      "buildId: a88769e2-93ed-4f9b-a282-acba26951dfb\n",
      "buildName: projects/774131484409/locations/us-central1/builds/a88769e2-93ed-4f9b-a282-acba26951dfb\n",
      "entryPoint: fetch_quote\n",
      "environmentVariables:\n",
      "  PROJECT_ID: qwiklabs-gcp-04-2ad6a04dc593\n",
      "  TOPIC_ID: quotes\n",
      "eventTrigger:\n",
      "  eventType: google.pubsub.topic.publish\n",
      "  failurePolicy: {}\n",
      "  resource: projects/qwiklabs-gcp-04-2ad6a04dc593/topics/quote-fetcher-topic\n",
      "  service: pubsub.googleapis.com\n",
      "ingressSettings: ALLOW_ALL\n",
      "labels:\n",
      "  deployment-tool: cli-gcloud\n",
      "name: projects/qwiklabs-gcp-04-2ad6a04dc593/locations/us-central1/functions/quote_fetcher\n",
      "runtime: python37\n",
      "serviceAccountEmail: qwiklabs-gcp-04-2ad6a04dc593@appspot.gserviceaccount.com\n",
      "sourceUploadUrl: https://storage.googleapis.com/gcf-upload-us-central1-0590737b-324c-4a57-b58b-fd974ee68e4f/a53ef61d-b729-4a15-9e0d-093a03a1c592.zip\n",
      "status: ACTIVE\n",
      "timeout: 60s\n",
      "updateTime: '2021-08-20T21:28:40.961Z'\n",
      "versionId: '16'\n"
     ]
    },
    {
     "name": "stderr",
     "output_type": "stream",
     "text": [
      "+++ gcloud config get-value project\n",
      "++ PROJECT_ID=qwiklabs-gcp-04-2ad6a04dc593\n",
      "++ TOPIC_ID=quotes\n",
      "++ gcloud functions deploy quote_fetcher --set-env-vars PROJECT_ID=qwiklabs-gcp-04-2ad6a04dc593,TOPIC_ID=quotes --entry-point fetch_quote --runtime python37 --trigger-topic quote-fetcher-topic\n",
      "Deploying function (may take a while - up to 2 minutes)...\n",
      ".\n",
      "For Cloud Build Logs, visit: https://console.cloud.google.com/cloud-build/builds;region=us-central1/969ee653-b8ff-41c2-b17f-bd6d5178faf5?project=774131484409\n",
      "...................................................done.\n"
     ]
    }
   ],
   "source": [
    "%%bash\n",
    "\n",
    "chmod +x quote_fetcher/deploy-cloud-function.sh\n",
    "\n",
    "./quote_fetcher/deploy-cloud-function.sh"
   ]
  },
  {
   "cell_type": "markdown",
   "id": "43b83c6e",
   "metadata": {},
   "source": [
    "Publish some data to the quote-fetcher-topic Pub/Sub topic"
   ]
  },
  {
   "cell_type": "code",
   "execution_count": 50,
   "id": "07c8e2c1",
   "metadata": {},
   "outputs": [
    {
     "name": "stdout",
     "output_type": "stream",
     "text": [
      "messageIds:\n",
      "- '2905842177728919'\n"
     ]
    }
   ],
   "source": [
    "! gcloud pubsub topics publish quote-fetcher-topic --message \"this is a test message\""
   ]
  },
  {
   "cell_type": "markdown",
   "id": "c46429a0",
   "metadata": {},
   "source": [
    "Check out the logs to make sure the Quote Fetcher Cloud Function is being Fired by Pub/Sub events"
   ]
  },
  {
   "cell_type": "code",
   "execution_count": 40,
   "id": "b815fcc0",
   "metadata": {},
   "outputs": [
    {
     "name": "stdout",
     "output_type": "stream",
     "text": [
      "LEVEL  NAME           EXECUTION_ID  TIME_UTC                 LOG\n",
      "D      quote_fetcher  c7nw33jjkj6f  2021-08-20 21:28:01.243  Function execution took 316 ms, finished with status: 'ok'\n",
      "I      quote_fetcher  c7nw33jjkj6f  2021-08-20 21:28:01.102  {'text': \"“The question isn't who is going to let me; it's who is going to stop me.”\", 'author': 'Ayn Rand', 'tags': [], 'sentiment': None, 'magnitude': None}\n",
      "I      quote_fetcher  c7nw33jjkj6f  2021-08-20 21:28:01.102  TOPIC_ID quotes\n",
      "I      quote_fetcher  c7nw33jjkj6f  2021-08-20 21:28:01.102  PROJECT_ID qwiklabs-gcp-04-2ad6a04dc593\n",
      "D      quote_fetcher  c7nw33jjkj6f  2021-08-20 21:28:00.927  Function execution started\n",
      "D      quote_fetcher  c7nwxn6201f2  2021-08-20 21:26:01.352  Function execution took 404 ms, finished with status: 'ok'\n",
      "I      quote_fetcher  c7nwxn6201f2  2021-08-20 21:26:01.232  {'text': '“There is nothing I would not do for those who are really my friends. I have no notion of loving people by halves, it is not my nature.”', 'author': 'Jane Austen', 'tags': ['friendship', 'love'], 'sentiment': None, 'magnitude': None}\n",
      "I      quote_fetcher  c7nwxn6201f2  2021-08-20 21:26:01.232  TOPIC_ID quotes\n",
      "I      quote_fetcher  c7nwxn6201f2  2021-08-20 21:26:01.232  PROJECT_ID qwiklabs-gcp-04-2ad6a04dc593\n",
      "D      quote_fetcher  c7nwxn6201f2  2021-08-20 21:26:00.949  Function execution started\n",
      "D      quote_fetcher  c7nwm8y028cl  2021-08-20 21:24:01.149  Function execution took 340 ms, finished with status: 'ok'\n",
      "I      quote_fetcher  c7nwm8y028cl  2021-08-20 21:24:00.943  {'text': '“I believe in Christianity as I believe that the sun has risen: not only because I see it, but because by it I see everything else.”', 'author': 'C.S. Lewis', 'tags': ['christianity', 'faith', 'religion', 'sun'], 'sentiment': None, 'magnitude': None}\n"
     ]
    }
   ],
   "source": [
    "! gcloud functions logs read quote_fetcher --limit 12"
   ]
  },
  {
   "cell_type": "markdown",
   "id": "fb35718c",
   "metadata": {},
   "source": [
    "Create a Cloud Schedule Job to Push Messages to Pub/Sub which in turn Invokes the Cloud Function"
   ]
  },
  {
   "cell_type": "markdown",
   "id": "4f8ab5ca",
   "metadata": {},
   "source": [
    "In cloud shell runt he following.\n",
    "\n",
    "```sh\n",
    "gcloud services enable cloudscheduler.googleapis.com\n",
    "\n",
    "export PROJECT_ID=$(gcloud config get-value project)\n",
    "gcloud app create --project $PROJECT_ID --region us-central\n",
    "\n",
    "gcloud scheduler jobs create pubsub quotefetcher \\\n",
    "  --schedule \"*/2 * * * *\" \\\n",
    "  --topic quote-fetcher-topic \\\n",
    "  --message-body \"fetch quote\"\n",
    "```"
   ]
  },
  {
   "cell_type": "code",
   "execution_count": null,
   "id": "063ae18c",
   "metadata": {},
   "outputs": [],
   "source": []
  },
  {
   "cell_type": "markdown",
   "id": "27fd1226",
   "metadata": {},
   "source": [
    "## Create a Dataflow Pipeline"
   ]
  },
  {
   "cell_type": "markdown",
   "id": "5036e74d",
   "metadata": {},
   "source": [
    "Create a directory to hold Beam Pipeline code"
   ]
  },
  {
   "cell_type": "code",
   "execution_count": 41,
   "id": "2c4ffa31",
   "metadata": {},
   "outputs": [
    {
     "name": "stdout",
     "output_type": "stream",
     "text": [
      "mkdir: cannot create directory ‘quote_pipeline’: File exists\n"
     ]
    }
   ],
   "source": [
    "! mkdir quote_pipeline"
   ]
  },
  {
   "cell_type": "markdown",
   "id": "740b6f04",
   "metadata": {},
   "source": [
    "Create a requriements.txt file for Beam Python library dependencies"
   ]
  },
  {
   "cell_type": "code",
   "execution_count": 36,
   "id": "3844ef42",
   "metadata": {},
   "outputs": [
    {
     "name": "stdout",
     "output_type": "stream",
     "text": [
      "Overwriting ./quote_pipeline/requirements.txt\n"
     ]
    }
   ],
   "source": [
    "%%writefile ./quote_pipeline/requirements.txt\n",
    "\n",
    "google-cloud-language==2.2.2"
   ]
  },
  {
   "cell_type": "markdown",
   "id": "0cfe24fc",
   "metadata": {},
   "source": [
    "Below is the pipeline code which consumes data from Pub/Sub quotes topic containing messages in JSON format as shown below.\n",
    "\n",
    "```json\n",
    "{\n",
    "  \"text\": \"Contents of a quote\",\n",
    "  \"author\": \"The Person Attributed with the Quote\",\n",
    "  \"tags\": ['A', 'list', 'of', 'tags', 'associated', 'with', 'quote'],\n",
    "  \"\": \n",
    "  \n",
    "}\n",
    "```"
   ]
  },
  {
   "cell_type": "code",
   "execution_count": 47,
   "id": "8a34a1e2",
   "metadata": {},
   "outputs": [
    {
     "name": "stdout",
     "output_type": "stream",
     "text": [
      "Overwriting ./quote_pipeline/pipeline.py\n"
     ]
    }
   ],
   "source": [
    "%%writefile ./quote_pipeline/pipeline.py\n",
    "\n",
    "import argparse\n",
    "import typing\n",
    "\n",
    "import apache_beam as beam\n",
    "from apache_beam.io.gcp.internal.clients import bigquery\n",
    "from apache_beam.options.pipeline_options import GoogleCloudOptions\n",
    "from apache_beam.options.pipeline_options import PipelineOptions\n",
    "from apache_beam.options.pipeline_options import StandardOptions, SetupOptions\n",
    "from apache_beam.runners import DataflowRunner\n",
    "\n",
    "import google.auth\n",
    "from google.cloud import language\n",
    "\n",
    "import time\n",
    "\n",
    "import json\n",
    "\n",
    "\n",
    "class Quote(typing.NamedTuple):\n",
    "    text : str\n",
    "    author : str\n",
    "    tags : typing.Sequence[str]\n",
    "    sentiment : float\n",
    "    magnitude : float\n",
    "\n",
    "beam.coders.registry.register_coder(Quote, beam.coders.RowCoder)\n",
    "\n",
    "\n",
    "def analyze_quote(element):\n",
    "    row = json.loads(element.decode('utf-8'))\n",
    "    \n",
    "    client = language.LanguageServiceClient()\n",
    "    \n",
    "    doc = language.Document(content=row['text'],\n",
    "                            type_=language.Document.Type.PLAIN_TEXT)\n",
    "    \n",
    "    response = client.analyze_sentiment(document=doc)\n",
    "\n",
    "    row.update(\n",
    "      sentiment=response.document_sentiment.score,\n",
    "      magnitude=response.document_sentiment.magnitude\n",
    "    )\n",
    "    \n",
    "    return row\n",
    "\n",
    "\n",
    "def main(args):\n",
    "    options = PipelineOptions(beam_args,\n",
    "                              runner=args.runner,\n",
    "                              streaming=True,\n",
    "                              project=args.project,\n",
    "                              region=args.region,\n",
    "                              job_name='{}{}'.format('quotes-pipeline-', time.time_ns()),\n",
    "                              staging_location=args.staginglocation,\n",
    "                              temp_location=args.templocation,\n",
    "                              save_main_session=True)\n",
    "    \n",
    "    table_spec = bigquery.TableReference(projectId=args.project,\n",
    "                                         datasetId=args.bqdataset,\n",
    "                                         tableId=args.bqtable)\n",
    "    QUOTES_TABLE_SCHEMA = {\n",
    "        \"fields\": [\n",
    "            {\n",
    "                \"name\": \"text\",\n",
    "                \"type\": \"STRING\"\n",
    "            },\n",
    "            {\n",
    "                \"name\": \"author\",\n",
    "                \"type\": \"STRING\"\n",
    "            },\n",
    "            {\n",
    "                \"name\": \"tags\",\n",
    "                \"type\": \"STRING\",\n",
    "                \"mode\": \"REPEATED\"\n",
    "            },\n",
    "            {\n",
    "                \"name\": \"sentiment\",\n",
    "                \"type\": \"FLOAT\"\n",
    "            },\n",
    "            {\n",
    "                \"name\": \"sentiment\",\n",
    "                \"type\": \"FLOAT\"\n",
    "            }\n",
    "        ]\n",
    "    }\n",
    "    \n",
    "    with beam.Pipeline(options=options) as p:\n",
    "        (p  | \"ReadPubSub\" >> beam.io.ReadFromPubSub(args.pubsubtopic)\n",
    "            | \"AnalyzeQuote\" >> beam.Map(analyze_quote)\n",
    "            | \"SaveToBigQuery\" >> beam.io.WriteToBigQuery(\n",
    "                                          table_spec,\n",
    "                                          schema=QUOTES_TABLE_SCHEMA,\n",
    "                                          create_disposition=beam.io.BigQueryDisposition.CREATE_IF_NEEDED,\n",
    "                                          write_disposition=beam.io.BigQueryDisposition.WRITE_APPEND))\n",
    "\n",
    "        \n",
    "if __name__ == '__main__':\n",
    "    parser = argparse.ArgumentParser()\n",
    "    parser.add_argument('--runner', default='DataflowRunner')\n",
    "    parser.add_argument('--project')\n",
    "    parser.add_argument('--region')\n",
    "    parser.add_argument('--bqdataset')\n",
    "    parser.add_argument('--bqtable')\n",
    "    parser.add_argument('--staginglocation')\n",
    "    parser.add_argument('--templocation')\n",
    "    parser.add_argument('--pubsubtopic')\n",
    "    parser.add_argument('--requirements_file')\n",
    "    \n",
    "    args, beam_args = parser.parse_known_args()\n",
    "    \n",
    "    main(args)"
   ]
  },
  {
   "cell_type": "markdown",
   "id": "73607ee8",
   "metadata": {},
   "source": [
    "Create Staging and Temp Dataflow Cloud Storage Endpoints"
   ]
  },
  {
   "cell_type": "code",
   "execution_count": 32,
   "id": "ba51e30c",
   "metadata": {},
   "outputs": [
    {
     "name": "stdout",
     "output_type": "stream",
     "text": [
      "Creating gs://quotes-pipeline-qwiklabs-gcp-04-2ad6a04dc593/...\n"
     ]
    }
   ],
   "source": [
    "! gsutil mb -l US gs://quotes-pipeline-qwiklabs-gcp-04-2ad6a04dc593"
   ]
  },
  {
   "cell_type": "code",
   "execution_count": 53,
   "id": "cc60aced",
   "metadata": {},
   "outputs": [
    {
     "name": "stdout",
     "output_type": "stream",
     "text": [
      "/opt/conda/lib/python3.7/site-packages/apache_beam/io/gcp/bigquery.py:1653: BeamDeprecationWarning: options is deprecated since First stable release. References to <pipeline>.options will not be supported\n",
      "  experiments = p.options.view_as(DebugOptions).experiments or []\n",
      "WARNING:root:Make sure that locally built Python SDK docker image has Python 3.7 interpreter.\n",
      "Traceback (most recent call last):\n",
      "  File \"quote_pipeline/pipeline.py\", line 117, in <module>\n",
      "    main(args)\n",
      "  File \"quote_pipeline/pipeline.py\", line 100, in main\n",
      "    write_disposition=beam.io.BigQueryDisposition.WRITE_APPEND))\n",
      "  File \"/opt/conda/lib/python3.7/site-packages/apache_beam/pipeline.py\", line 581, in __exit__\n",
      "    self.result.wait_until_finish()\n",
      "  File \"/opt/conda/lib/python3.7/site-packages/apache_beam/runners/dataflow/dataflow_runner.py\", line 1674, in wait_until_finish\n",
      "    'Job did not reach to a terminal state after waiting indefinitely.')\n",
      "AssertionError: Job did not reach to a terminal state after waiting indefinitely.\n"
     ]
    }
   ],
   "source": [
    "! python quote_pipeline/pipeline.py \\\n",
    "   --project qwiklabs-gcp-04-2ad6a04dc593 \\\n",
    "   --region us-central1 \\\n",
    "   --bqdataset quotesds \\\n",
    "   --bqtable quotes \\\n",
    "   --staginglocation gs://quotes-pipeline-qwiklabs-gcp-04-2ad6a04dc593/staging \\\n",
    "   --templocation gs://quotes-pipeline-qwiklabs-gcp-04-2ad6a04dc593/temp \\\n",
    "   --pubsubtopic projects/qwiklabs-gcp-04-2ad6a04dc593/topics/quotes \\\n",
    "   --requirements_file quote_pipeline/requirements.txt "
   ]
  }
 ],
 "metadata": {
  "environment": {
   "name": "tf2-gpu.2-3.m76",
   "type": "gcloud",
   "uri": "gcr.io/deeplearning-platform-release/tf2-gpu.2-3:m76"
  },
  "kernelspec": {
   "display_name": "Python 3",
   "language": "python",
   "name": "python3"
  },
  "language_info": {
   "codemirror_mode": {
    "name": "ipython",
    "version": 3
   },
   "file_extension": ".py",
   "mimetype": "text/x-python",
   "name": "python",
   "nbconvert_exporter": "python",
   "pygments_lexer": "ipython3",
   "version": "3.7.10"
  }
 },
 "nbformat": 4,
 "nbformat_minor": 5
}
