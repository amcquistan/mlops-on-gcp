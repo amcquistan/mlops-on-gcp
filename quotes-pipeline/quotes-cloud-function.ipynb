{
 "cells": [
  {
   "cell_type": "markdown",
   "id": "25f9c724",
   "metadata": {},
   "source": [
    "# Quotes Pipeline\n",
    "\n",
    "In this pipeline architecture a Cloud Scheduler Job is scheduled to run every couple of minutes which pushes a message to a Pub/Sub topic named quote-fetcher-topic. The quote-fetcher-topic Pub/Sub topic in turn invokes a Cloud Function named quote_fetcher which fetches random quotes from https://quotes.toscrape.com/random and, parses them from the webpage HTML and into a JSON datastructure then publishes the resulting JSON message into a second Pub/Sub topic named quotes. The quote Pub/Sub topic is comsumed by an Apache Beam Dataflow pipeline which parses the JSON based quote, calls the Natural Language ML API passing the quote text and receiving back sentiment scores which are added to the quote data structure. The Beam pipeline concludes by saving the sentiment enriched quotes to a BigQuery table named quotes in a quotesds dataset. \n",
    "\n",
    "<img src=\"./Quote-Sentiment-Pipeline.jpg\">"
   ]
  },
  {
   "cell_type": "markdown",
   "id": "64862594",
   "metadata": {},
   "source": [
    "## Building the Quote Fetcher Cloud Function\n",
    "\n",
    "Steps are modified from GCP docs tutorial [Using Pub/Sub to trigger a Cloud Function](https://cloud.google.com/scheduler/docs/tut-pub-sub) along with the Quick Start example for [Functions Framework GitHub README](https://github.com/GoogleCloudPlatform/functions-framework-python)\n",
    "\n",
    "Quick View of Steps:\n",
    "\n",
    "1) Create Pub/Sub topic to write quotes to from Quote Fetcher Cloud Function\n",
    "\n",
    "2) Create Quote Fetcher Cloud Function \n",
    "\n",
    "3) Create Pub/Sub topic to trigger Quote Fetcher Cloud Function\n",
    "\n",
    "4) Create Cloud Scheduler job to invoke Pub/Sub topic\n"
   ]
  },
  {
   "cell_type": "markdown",
   "id": "5f98edc1",
   "metadata": {},
   "source": [
    "__Step 1:__ Create a pubsub topic for the Quote Fetcher cloud function to publish quotes to."
   ]
  },
  {
   "cell_type": "code",
   "execution_count": 1,
   "id": "1a45f313",
   "metadata": {},
   "outputs": [
    {
     "name": "stdout",
     "output_type": "stream",
     "text": [
      "Created topic [projects/qwiklabs-gcp-04-2ad6a04dc593/topics/quotes].\n"
     ]
    }
   ],
   "source": [
    "! gcloud pubsub topics create quotes"
   ]
  },
  {
   "cell_type": "markdown",
   "id": "d2e9f534",
   "metadata": {},
   "source": [
    "__Step 2:__ Create Quote Fetcher Cloud Function"
   ]
  },
  {
   "cell_type": "markdown",
   "id": "cf1af19f",
   "metadata": {},
   "source": [
    "First need a directory to hold the source code in."
   ]
  },
  {
   "cell_type": "code",
   "execution_count": 2,
   "id": "54b0f8ba",
   "metadata": {},
   "outputs": [
    {
     "name": "stdout",
     "output_type": "stream",
     "text": [
      "creating quote_fetcher directory\n"
     ]
    }
   ],
   "source": [
    "%%bash\n",
    "\n",
    "if [ ! -d quote_fetcher ]\n",
    "then\n",
    "  echo \"creating quote_fetcher directory\"\n",
    "  mkdir quote_fetcher\n",
    "fi\n",
    "\n",
    "if [ ! -d pubsub_schd ]\n",
    "then\n",
    "  echo \"creating pubsub_schd directory\"\n",
    "  mkdir pubsub_schd\n",
    "fi"
   ]
  },
  {
   "cell_type": "markdown",
   "id": "f92529b5",
   "metadata": {},
   "source": [
    "Write requirements.txt for Quote Fetcher Cloud Function Python dependencies"
   ]
  },
  {
   "cell_type": "code",
   "execution_count": 3,
   "id": "3cb41660",
   "metadata": {},
   "outputs": [
    {
     "name": "stdout",
     "output_type": "stream",
     "text": [
      "Writing ./quote_fetcher/requirements.txt\n"
     ]
    }
   ],
   "source": [
    "%%writefile ./quote_fetcher/requirements.txt\n",
    "google-cloud-pubsub==2.7.0\n",
    "requests>=2.26.0,<2.27.0\n",
    "beautifulsoup4>=4.9.3,<4.10.0\n",
    "pydantic>=1.8.2,<1.9.0\n",
    "# google-cloud-language>=2.2.2,<2.3.0"
   ]
  },
  {
   "cell_type": "markdown",
   "id": "ce468cb9",
   "metadata": {},
   "source": [
    "Write Quote Fetcher Cloud Function source code"
   ]
  },
  {
   "cell_type": "code",
   "execution_count": 4,
   "id": "30854878",
   "metadata": {},
   "outputs": [
    {
     "name": "stdout",
     "output_type": "stream",
     "text": [
      "Writing ./quote_fetcher/main.py\n"
     ]
    }
   ],
   "source": [
    "%%writefile ./quote_fetcher/main.py\n",
    "\n",
    "import json\n",
    "import os\n",
    "import typing\n",
    "\n",
    "import requests\n",
    "\n",
    "from bs4 import BeautifulSoup\n",
    "from google.cloud import pubsub_v1\n",
    "\n",
    "from pydantic import BaseModel\n",
    "\n",
    "PROJECT_ID = os.environ['PROJECT_ID']\n",
    "TOPIC_ID = os.environ['TOPIC_ID']\n",
    "\n",
    "\n",
    "class Quote(BaseModel):\n",
    "    text : str\n",
    "    author : str\n",
    "    tags : typing.Sequence[str]\n",
    "    sentiment : typing.Optional[float]\n",
    "    magnitude : typing.Optional[float]\n",
    "        \n",
    "\n",
    "def fetch_quote(events, context):\n",
    "    quote_url = 'https://quotes.toscrape.com/random'\n",
    "\n",
    "    response = requests.get(quote_url)\n",
    "\n",
    "    soup = BeautifulSoup(response.content, 'html.parser')\n",
    "\n",
    "    quote_el = soup.find('div', class_='quote')\n",
    "\n",
    "    quote = Quote(\n",
    "        text=quote_el.find('span', class_='text').get_text(),\n",
    "        author=quote_el.find('small', class_='author').get_text(),\n",
    "        tags=[el.get_text() for el in quote_el.find_all('a', class_='tag')]\n",
    "    )\n",
    "    \n",
    "    quote_data = quote.dict()\n",
    "    print(\"PROJECT_ID \" + PROJECT_ID)\n",
    "    print(\"TOPIC_ID \" + TOPIC_ID)\n",
    "    print(quote_data)\n",
    "    \n",
    "    publisher = pubsub_v1.PublisherClient()\n",
    "    topic_path = publisher.topic_path(PROJECT_ID, TOPIC_ID)\n",
    "    publisher.publish(topic_path, json.dumps(quote_data).encode('utf-8'))\n",
    "    \n",
    "    return quote_data"
   ]
  },
  {
   "cell_type": "markdown",
   "id": "fa85de31",
   "metadata": {},
   "source": [
    "__Step 3:__ Write a helper deployment shell script which also creates a Pub/Sub Topic"
   ]
  },
  {
   "cell_type": "code",
   "execution_count": 5,
   "id": "03ef1de9",
   "metadata": {},
   "outputs": [
    {
     "name": "stdout",
     "output_type": "stream",
     "text": [
      "Writing ./quote_fetcher/deploy-cloud-function.sh\n"
     ]
    }
   ],
   "source": [
    "%%writefile ./quote_fetcher/deploy-cloud-function.sh\n",
    "\n",
    "#!/bin/bash\n",
    "\n",
    "if [ -d quote_fetcher ]\n",
    "then\n",
    "  cd quote_fetcher\n",
    "fi\n",
    "\n",
    "set -ex\n",
    "\n",
    "PROJECT_ID=$(gcloud config get-value project)\n",
    "TOPIC_ID=quotes\n",
    "\n",
    "gcloud functions deploy quote_fetcher \\\n",
    "  --set-env-vars PROJECT_ID=$PROJECT_ID,TOPIC_ID=$TOPIC_ID \\\n",
    "  --entry-point fetch_quote \\\n",
    "  --runtime python37 \\\n",
    "  --trigger-topic quote-fetcher-topic"
   ]
  },
  {
   "cell_type": "markdown",
   "id": "ef677f1a",
   "metadata": {},
   "source": [
    "Deploy the Quote Fetcher Cloud Function "
   ]
  },
  {
   "cell_type": "code",
   "execution_count": 6,
   "id": "e67d2514",
   "metadata": {},
   "outputs": [
    {
     "name": "stdout",
     "output_type": "stream",
     "text": [
      "availableMemoryMb: 256\n",
      "buildId: b5d17b9e-fa1a-4d63-ae57-6e3ef5f41c9c\n",
      "buildName: projects/774131484409/locations/us-central1/builds/b5d17b9e-fa1a-4d63-ae57-6e3ef5f41c9c\n",
      "entryPoint: fetch_quote\n",
      "environmentVariables:\n",
      "  PROJECT_ID: qwiklabs-gcp-04-2ad6a04dc593\n",
      "  TOPIC_ID: quotes\n",
      "eventTrigger:\n",
      "  eventType: google.pubsub.topic.publish\n",
      "  failurePolicy: {}\n",
      "  resource: projects/qwiklabs-gcp-04-2ad6a04dc593/topics/quote-fetcher-topic\n",
      "  service: pubsub.googleapis.com\n",
      "ingressSettings: ALLOW_ALL\n",
      "labels:\n",
      "  deployment-tool: cli-gcloud\n",
      "name: projects/qwiklabs-gcp-04-2ad6a04dc593/locations/us-central1/functions/quote_fetcher\n",
      "runtime: python37\n",
      "serviceAccountEmail: qwiklabs-gcp-04-2ad6a04dc593@appspot.gserviceaccount.com\n",
      "sourceUploadUrl: https://storage.googleapis.com/gcf-upload-us-central1-0590737b-324c-4a57-b58b-fd974ee68e4f/54316c8d-fca6-4019-b329-11720ec78181.zip\n",
      "status: ACTIVE\n",
      "timeout: 60s\n",
      "updateTime: '2021-08-21T02:07:38.331Z'\n",
      "versionId: '1'\n"
     ]
    },
    {
     "name": "stderr",
     "output_type": "stream",
     "text": [
      "+++ gcloud config get-value project\n",
      "++ PROJECT_ID=qwiklabs-gcp-04-2ad6a04dc593\n",
      "++ TOPIC_ID=quotes\n",
      "++ gcloud functions deploy quote_fetcher --set-env-vars PROJECT_ID=qwiklabs-gcp-04-2ad6a04dc593,TOPIC_ID=quotes --entry-point fetch_quote --runtime python37 --trigger-topic quote-fetcher-topic\n",
      "Deploying function (may take a while - up to 2 minutes)...\n",
      "..\n",
      "For Cloud Build Logs, visit: https://console.cloud.google.com/cloud-build/builds;region=us-central1/b5d17b9e-fa1a-4d63-ae57-6e3ef5f41c9c?project=774131484409\n",
      ".................................................done.\n"
     ]
    }
   ],
   "source": [
    "%%bash\n",
    "\n",
    "chmod +x quote_fetcher/deploy-cloud-function.sh\n",
    "\n",
    "./quote_fetcher/deploy-cloud-function.sh"
   ]
  },
  {
   "cell_type": "markdown",
   "id": "093be784",
   "metadata": {},
   "source": [
    "Publish some data to the quote-fetcher-topic Pub/Sub topic"
   ]
  },
  {
   "cell_type": "code",
   "execution_count": 11,
   "id": "9a8c4707",
   "metadata": {},
   "outputs": [
    {
     "name": "stdout",
     "output_type": "stream",
     "text": [
      "messageIds:\n",
      "- '2906104492847693'\n"
     ]
    }
   ],
   "source": [
    "! gcloud pubsub topics publish quote-fetcher-topic --message \"this is a test message\""
   ]
  },
  {
   "cell_type": "markdown",
   "id": "9f857e17",
   "metadata": {},
   "source": [
    "Check out the logs to make sure the Quote Fetcher Cloud Function is being Fired by Pub/Sub events"
   ]
  },
  {
   "cell_type": "code",
   "execution_count": 12,
   "id": "8d759ba2",
   "metadata": {},
   "outputs": [
    {
     "name": "stdout",
     "output_type": "stream",
     "text": [
      "LEVEL  NAME           EXECUTION_ID  TIME_UTC                 LOG\n",
      "D      quote_fetcher  v2mpufvuid6d  2021-08-21 02:07:56.710  Function execution took 487 ms, finished with status: 'ok'\n",
      "I      quote_fetcher  v2mpufvuid6d  2021-08-21 02:07:56.485  {'text': '“You can never get a cup of tea large enough or a book long enough to suit me.”', 'author': 'C.S. Lewis', 'tags': ['books', 'inspirational', 'reading', 'tea'], 'sentiment': None, 'magnitude': None}\n",
      "I      quote_fetcher  v2mpufvuid6d  2021-08-21 02:07:56.485  TOPIC_ID quotes\n",
      "I      quote_fetcher  v2mpufvuid6d  2021-08-21 02:07:56.485  PROJECT_ID qwiklabs-gcp-04-2ad6a04dc593\n",
      "D      quote_fetcher  v2mpufvuid6d  2021-08-21 02:07:56.223  Function execution started\n",
      "D      quote_fetcher  v2mp1emgp6j7  2021-08-21 02:07:56.195  Function execution took 4026 ms, finished with status: 'ok'\n",
      "I      quote_fetcher  v2mp1emgp6j7  2021-08-21 02:07:55.559  {'text': '“There are only two ways to live your life. One is as though nothing is a miracle. The other is as though everything is a miracle.”', 'author': 'Albert Einstein', 'tags': ['inspirational', 'life', 'live', 'miracle', 'miracles'], 'sentiment': None, 'magnitude': None}\n",
      "I      quote_fetcher  v2mp1emgp6j7  2021-08-21 02:07:55.559  TOPIC_ID quotes\n",
      "I      quote_fetcher  v2mp1emgp6j7  2021-08-21 02:07:55.558  PROJECT_ID qwiklabs-gcp-04-2ad6a04dc593\n",
      "D      quote_fetcher  v2mp1emgp6j7  2021-08-21 02:07:52.172  Function execution started\n",
      "E      quote_fetcher  y4dnkr87mj95  2021-08-21 01:56:10.147  google.api_core.exceptions.NotFound: 404 Resource not found (resource=quotes).\n",
      "E      quote_fetcher  y4dnkr87mj95  2021-08-21 01:56:10.147      raise exceptions.from_grpc_error(exc) from exc\n"
     ]
    }
   ],
   "source": [
    "! gcloud functions logs read quote_fetcher --limit 12"
   ]
  },
  {
   "cell_type": "markdown",
   "id": "797462b7",
   "metadata": {},
   "source": [
    "__Step 4:__ Create a Cloud Schedule Job to Push Messages to Pub/Sub which in turn Invokes the Cloud Function"
   ]
  },
  {
   "cell_type": "markdown",
   "id": "a6562e13",
   "metadata": {},
   "source": [
    "In cloud shell runt he following.\n",
    "\n",
    "```sh\n",
    "gcloud services enable cloudscheduler.googleapis.com\n",
    "\n",
    "export PROJECT_ID=$(gcloud config get-value project)\n",
    "gcloud app create --project $PROJECT_ID --region us-central\n",
    "\n",
    "gcloud scheduler jobs create pubsub quotefetcher \\\n",
    "  --schedule \"*/1 * * * *\" \\\n",
    "  --topic quote-fetcher-topic \\\n",
    "  --message-body \"fetch quote\"\n",
    "```"
   ]
  },
  {
   "cell_type": "markdown",
   "id": "5092429d",
   "metadata": {},
   "source": [
    "## Create a Dataflow Pipeline"
   ]
  },
  {
   "cell_type": "markdown",
   "id": "ad066e53",
   "metadata": {},
   "source": [
    "Create a directory to hold Beam Pipeline code"
   ]
  },
  {
   "cell_type": "code",
   "execution_count": 13,
   "id": "bf880ac6",
   "metadata": {},
   "outputs": [],
   "source": [
    "! mkdir quote_pipeline"
   ]
  },
  {
   "cell_type": "markdown",
   "id": "f7d026bc",
   "metadata": {},
   "source": [
    "Create a requriements.txt file for Beam Python library dependencies"
   ]
  },
  {
   "cell_type": "code",
   "execution_count": 14,
   "id": "1e94d44c",
   "metadata": {},
   "outputs": [
    {
     "name": "stdout",
     "output_type": "stream",
     "text": [
      "Writing ./quote_pipeline/requirements.txt\n"
     ]
    }
   ],
   "source": [
    "%%writefile ./quote_pipeline/requirements.txt\n",
    "\n",
    "google-cloud-language==2.2.2"
   ]
  },
  {
   "cell_type": "markdown",
   "id": "40ceaf3a",
   "metadata": {},
   "source": [
    "Below is the pipeline code which consumes data from Pub/Sub quotes topic containing messages in JSON format as shown below.\n",
    "\n",
    "```json\n",
    "{\n",
    "  \"text\": \"Contents of a quote\",\n",
    "  \"author\": \"The Person Attributed with the Quote\",\n",
    "  \"tags\": ['A', 'list', 'of', 'tags', 'associated', 'with', 'quote'], \n",
    "  \n",
    "}\n",
    "```"
   ]
  },
  {
   "cell_type": "code",
   "execution_count": 15,
   "id": "428dab5a",
   "metadata": {},
   "outputs": [
    {
     "name": "stdout",
     "output_type": "stream",
     "text": [
      "Writing ./quote_pipeline/pipeline.py\n"
     ]
    }
   ],
   "source": [
    "%%writefile ./quote_pipeline/pipeline.py\n",
    "\n",
    "import argparse\n",
    "import typing\n",
    "\n",
    "import apache_beam as beam\n",
    "from apache_beam.io.gcp.internal.clients import bigquery\n",
    "from apache_beam.options.pipeline_options import GoogleCloudOptions\n",
    "from apache_beam.options.pipeline_options import PipelineOptions\n",
    "from apache_beam.options.pipeline_options import StandardOptions, SetupOptions\n",
    "from apache_beam.runners import DataflowRunner\n",
    "\n",
    "import google.auth\n",
    "from google.cloud import language\n",
    "\n",
    "import time\n",
    "\n",
    "import json\n",
    "\n",
    "\n",
    "class Quote(typing.NamedTuple):\n",
    "    text : str\n",
    "    author : str\n",
    "    tags : typing.Sequence[str]\n",
    "    sentiment : float\n",
    "    magnitude : float\n",
    "\n",
    "beam.coders.registry.register_coder(Quote, beam.coders.RowCoder)\n",
    "\n",
    "\n",
    "def analyze_quote(element):\n",
    "    row = json.loads(element.decode('utf-8'))\n",
    "    \n",
    "    client = language.LanguageServiceClient()\n",
    "    \n",
    "    doc = language.Document(content=row['text'],\n",
    "                            type_=language.Document.Type.PLAIN_TEXT)\n",
    "    \n",
    "    response = client.analyze_sentiment(document=doc)\n",
    "\n",
    "    row.update(\n",
    "      sentiment=response.document_sentiment.score,\n",
    "      magnitude=response.document_sentiment.magnitude\n",
    "    )\n",
    "    \n",
    "    return row\n",
    "\n",
    "\n",
    "def main(args):\n",
    "    options = PipelineOptions(beam_args,\n",
    "                              runner=args.runner,\n",
    "                              streaming=True,\n",
    "                              project=args.project,\n",
    "                              region=args.region,\n",
    "                              job_name='{}{}'.format('quotes-pipeline-', time.time_ns()),\n",
    "                              staging_location=args.staginglocation,\n",
    "                              temp_location=args.templocation,\n",
    "                              save_main_session=True)\n",
    "    \n",
    "    table_spec = bigquery.TableReference(projectId=args.project,\n",
    "                                         datasetId=args.bqdataset,\n",
    "                                         tableId=args.bqtable)\n",
    "    QUOTES_TABLE_SCHEMA = {\n",
    "        \"fields\": [\n",
    "            {\n",
    "                \"name\": \"text\",\n",
    "                \"type\": \"STRING\"\n",
    "            },\n",
    "            {\n",
    "                \"name\": \"author\",\n",
    "                \"type\": \"STRING\"\n",
    "            },\n",
    "            {\n",
    "                \"name\": \"tags\",\n",
    "                \"type\": \"STRING\",\n",
    "                \"mode\": \"REPEATED\"\n",
    "            },\n",
    "            {\n",
    "                \"name\": \"sentiment\",\n",
    "                \"type\": \"FLOAT\"\n",
    "            },\n",
    "            {\n",
    "                \"name\": \"sentiment\",\n",
    "                \"type\": \"FLOAT\"\n",
    "            }\n",
    "        ]\n",
    "    }\n",
    "    \n",
    "    with beam.Pipeline(options=options) as p:\n",
    "        (p  | \"ReadPubSub\" >> beam.io.ReadFromPubSub(args.pubsubtopic)\n",
    "            | \"AnalyzeQuote\" >> beam.Map(analyze_quote)\n",
    "            | \"SaveToBigQuery\" >> beam.io.WriteToBigQuery(\n",
    "                                          table_spec,\n",
    "                                          schema=QUOTES_TABLE_SCHEMA,\n",
    "                                          create_disposition=beam.io.BigQueryDisposition.CREATE_IF_NEEDED,\n",
    "                                          write_disposition=beam.io.BigQueryDisposition.WRITE_APPEND))\n",
    "\n",
    "        \n",
    "if __name__ == '__main__':\n",
    "    parser = argparse.ArgumentParser()\n",
    "    parser.add_argument('--runner', default='DataflowRunner')\n",
    "    parser.add_argument('--project')\n",
    "    parser.add_argument('--region')\n",
    "    parser.add_argument('--bqdataset')\n",
    "    parser.add_argument('--bqtable')\n",
    "    parser.add_argument('--staginglocation')\n",
    "    parser.add_argument('--templocation')\n",
    "    parser.add_argument('--pubsubtopic')\n",
    "    parser.add_argument('--requirements_file')\n",
    "    \n",
    "    args, beam_args = parser.parse_known_args()\n",
    "    \n",
    "    main(args)"
   ]
  },
  {
   "cell_type": "markdown",
   "id": "793f9256",
   "metadata": {},
   "source": [
    "Create Staging and Temp Dataflow Cloud Storage Endpoints"
   ]
  },
  {
   "cell_type": "code",
   "execution_count": 16,
   "id": "2d9be726",
   "metadata": {},
   "outputs": [
    {
     "name": "stderr",
     "output_type": "stream",
     "text": [
      "Creating gs://quotes-pipeline-qwiklabs-gcp-04-2ad6a04dc593/...\n"
     ]
    }
   ],
   "source": [
    "%%bash\n",
    "\n",
    "export PROJECT_ID=$(gcloud config get-value project)\n",
    "PIPELINE_BUCKET=\"gs://quotes-pipeline-$PROJECT_ID\"\n",
    "gsutil mb -l US $PIPELINE_BUCKET"
   ]
  },
  {
   "cell_type": "code",
   "execution_count": 19,
   "id": "2462733b",
   "metadata": {},
   "outputs": [
    {
     "name": "stderr",
     "output_type": "stream",
     "text": [
      "/opt/conda/lib/python3.7/site-packages/apache_beam/io/gcp/bigquery.py:1653: BeamDeprecationWarning: options is deprecated since First stable release. References to <pipeline>.options will not be supported\n",
      "  experiments = p.options.view_as(DebugOptions).experiments or []\n",
      "WARNING:root:Make sure that locally built Python SDK docker image has Python 3.7 interpreter.\n",
      "Traceback (most recent call last):\n",
      "  File \"quote_pipeline/pipeline.py\", line 112, in <module>\n",
      "    main(args)\n",
      "  File \"quote_pipeline/pipeline.py\", line 95, in main\n",
      "    write_disposition=beam.io.BigQueryDisposition.WRITE_APPEND))\n",
      "  File \"/opt/conda/lib/python3.7/site-packages/apache_beam/pipeline.py\", line 581, in __exit__\n",
      "    self.result.wait_until_finish()\n",
      "  File \"/opt/conda/lib/python3.7/site-packages/apache_beam/runners/dataflow/dataflow_runner.py\", line 1674, in wait_until_finish\n",
      "    'Job did not reach to a terminal state after waiting indefinitely.')\n",
      "AssertionError: Job did not reach to a terminal state after waiting indefinitely.\n"
     ]
    },
    {
     "ename": "CalledProcessError",
     "evalue": "Command 'b'export PROJECT_ID=$(gcloud config get-value project)\\nPIPELINE_BUCKET=\"gs://quotes-pipeline-$PROJECT_ID\"\\npython quote_pipeline/pipeline.py \\\\\\n   --project $PROJECT_ID \\\\\\n   --region us-central1 \\\\\\n   --bqdataset quotesds \\\\\\n   --bqtable quotes \\\\\\n   --staginglocation $PIPELINE_BUCKET/staging \\\\\\n   --templocation $PIPELINE_BUCKET/temp \\\\\\n   --pubsubtopic projects/qwiklabs-gcp-04-2ad6a04dc593/topics/quotes \\\\\\n   --requirements_file quote_pipeline/requirements.txt \\n'' returned non-zero exit status 1.",
     "output_type": "error",
     "traceback": [
      "\u001b[0;31m---------------------------------------------------------------------------\u001b[0m",
      "\u001b[0;31mCalledProcessError\u001b[0m                        Traceback (most recent call last)",
      "\u001b[0;32m<ipython-input-19-008c7fc0a77a>\u001b[0m in \u001b[0;36m<module>\u001b[0;34m\u001b[0m\n\u001b[0;32m----> 1\u001b[0;31m \u001b[0mget_ipython\u001b[0m\u001b[0;34m(\u001b[0m\u001b[0;34m)\u001b[0m\u001b[0;34m.\u001b[0m\u001b[0mrun_cell_magic\u001b[0m\u001b[0;34m(\u001b[0m\u001b[0;34m'bash'\u001b[0m\u001b[0;34m,\u001b[0m \u001b[0;34m''\u001b[0m\u001b[0;34m,\u001b[0m \u001b[0;34m'export PROJECT_ID=$(gcloud config get-value project)\\nPIPELINE_BUCKET=\"gs://quotes-pipeline-$PROJECT_ID\"\\npython quote_pipeline/pipeline.py \\\\\\n   --project $PROJECT_ID \\\\\\n   --region us-central1 \\\\\\n   --bqdataset quotesds \\\\\\n   --bqtable quotes \\\\\\n   --staginglocation $PIPELINE_BUCKET/staging \\\\\\n   --templocation $PIPELINE_BUCKET/temp \\\\\\n   --pubsubtopic projects/qwiklabs-gcp-04-2ad6a04dc593/topics/quotes \\\\\\n   --requirements_file quote_pipeline/requirements.txt \\n'\u001b[0m\u001b[0;34m)\u001b[0m\u001b[0;34m\u001b[0m\u001b[0;34m\u001b[0m\u001b[0m\n\u001b[0m",
      "\u001b[0;32m/opt/conda/lib/python3.7/site-packages/IPython/core/interactiveshell.py\u001b[0m in \u001b[0;36mrun_cell_magic\u001b[0;34m(self, magic_name, line, cell)\u001b[0m\n\u001b[1;32m   2401\u001b[0m             \u001b[0;32mwith\u001b[0m \u001b[0mself\u001b[0m\u001b[0;34m.\u001b[0m\u001b[0mbuiltin_trap\u001b[0m\u001b[0;34m:\u001b[0m\u001b[0;34m\u001b[0m\u001b[0;34m\u001b[0m\u001b[0m\n\u001b[1;32m   2402\u001b[0m                 \u001b[0margs\u001b[0m \u001b[0;34m=\u001b[0m \u001b[0;34m(\u001b[0m\u001b[0mmagic_arg_s\u001b[0m\u001b[0;34m,\u001b[0m \u001b[0mcell\u001b[0m\u001b[0;34m)\u001b[0m\u001b[0;34m\u001b[0m\u001b[0;34m\u001b[0m\u001b[0m\n\u001b[0;32m-> 2403\u001b[0;31m                 \u001b[0mresult\u001b[0m \u001b[0;34m=\u001b[0m \u001b[0mfn\u001b[0m\u001b[0;34m(\u001b[0m\u001b[0;34m*\u001b[0m\u001b[0margs\u001b[0m\u001b[0;34m,\u001b[0m \u001b[0;34m**\u001b[0m\u001b[0mkwargs\u001b[0m\u001b[0;34m)\u001b[0m\u001b[0;34m\u001b[0m\u001b[0;34m\u001b[0m\u001b[0m\n\u001b[0m\u001b[1;32m   2404\u001b[0m             \u001b[0;32mreturn\u001b[0m \u001b[0mresult\u001b[0m\u001b[0;34m\u001b[0m\u001b[0;34m\u001b[0m\u001b[0m\n\u001b[1;32m   2405\u001b[0m \u001b[0;34m\u001b[0m\u001b[0m\n",
      "\u001b[0;32m/opt/conda/lib/python3.7/site-packages/IPython/core/magics/script.py\u001b[0m in \u001b[0;36mnamed_script_magic\u001b[0;34m(line, cell)\u001b[0m\n\u001b[1;32m    140\u001b[0m             \u001b[0;32melse\u001b[0m\u001b[0;34m:\u001b[0m\u001b[0;34m\u001b[0m\u001b[0;34m\u001b[0m\u001b[0m\n\u001b[1;32m    141\u001b[0m                 \u001b[0mline\u001b[0m \u001b[0;34m=\u001b[0m \u001b[0mscript\u001b[0m\u001b[0;34m\u001b[0m\u001b[0;34m\u001b[0m\u001b[0m\n\u001b[0;32m--> 142\u001b[0;31m             \u001b[0;32mreturn\u001b[0m \u001b[0mself\u001b[0m\u001b[0;34m.\u001b[0m\u001b[0mshebang\u001b[0m\u001b[0;34m(\u001b[0m\u001b[0mline\u001b[0m\u001b[0;34m,\u001b[0m \u001b[0mcell\u001b[0m\u001b[0;34m)\u001b[0m\u001b[0;34m\u001b[0m\u001b[0;34m\u001b[0m\u001b[0m\n\u001b[0m\u001b[1;32m    143\u001b[0m \u001b[0;34m\u001b[0m\u001b[0m\n\u001b[1;32m    144\u001b[0m         \u001b[0;31m# write a basic docstring:\u001b[0m\u001b[0;34m\u001b[0m\u001b[0;34m\u001b[0m\u001b[0;34m\u001b[0m\u001b[0m\n",
      "\u001b[0;32m/opt/conda/lib/python3.7/site-packages/decorator.py\u001b[0m in \u001b[0;36mfun\u001b[0;34m(*args, **kw)\u001b[0m\n\u001b[1;32m    230\u001b[0m             \u001b[0;32mif\u001b[0m \u001b[0;32mnot\u001b[0m \u001b[0mkwsyntax\u001b[0m\u001b[0;34m:\u001b[0m\u001b[0;34m\u001b[0m\u001b[0;34m\u001b[0m\u001b[0m\n\u001b[1;32m    231\u001b[0m                 \u001b[0margs\u001b[0m\u001b[0;34m,\u001b[0m \u001b[0mkw\u001b[0m \u001b[0;34m=\u001b[0m \u001b[0mfix\u001b[0m\u001b[0;34m(\u001b[0m\u001b[0margs\u001b[0m\u001b[0;34m,\u001b[0m \u001b[0mkw\u001b[0m\u001b[0;34m,\u001b[0m \u001b[0msig\u001b[0m\u001b[0;34m)\u001b[0m\u001b[0;34m\u001b[0m\u001b[0;34m\u001b[0m\u001b[0m\n\u001b[0;32m--> 232\u001b[0;31m             \u001b[0;32mreturn\u001b[0m \u001b[0mcaller\u001b[0m\u001b[0;34m(\u001b[0m\u001b[0mfunc\u001b[0m\u001b[0;34m,\u001b[0m \u001b[0;34m*\u001b[0m\u001b[0;34m(\u001b[0m\u001b[0mextras\u001b[0m \u001b[0;34m+\u001b[0m \u001b[0margs\u001b[0m\u001b[0;34m)\u001b[0m\u001b[0;34m,\u001b[0m \u001b[0;34m**\u001b[0m\u001b[0mkw\u001b[0m\u001b[0;34m)\u001b[0m\u001b[0;34m\u001b[0m\u001b[0;34m\u001b[0m\u001b[0m\n\u001b[0m\u001b[1;32m    233\u001b[0m     \u001b[0mfun\u001b[0m\u001b[0;34m.\u001b[0m\u001b[0m__name__\u001b[0m \u001b[0;34m=\u001b[0m \u001b[0mfunc\u001b[0m\u001b[0;34m.\u001b[0m\u001b[0m__name__\u001b[0m\u001b[0;34m\u001b[0m\u001b[0;34m\u001b[0m\u001b[0m\n\u001b[1;32m    234\u001b[0m     \u001b[0mfun\u001b[0m\u001b[0;34m.\u001b[0m\u001b[0m__doc__\u001b[0m \u001b[0;34m=\u001b[0m \u001b[0mfunc\u001b[0m\u001b[0;34m.\u001b[0m\u001b[0m__doc__\u001b[0m\u001b[0;34m\u001b[0m\u001b[0;34m\u001b[0m\u001b[0m\n",
      "\u001b[0;32m/opt/conda/lib/python3.7/site-packages/IPython/core/magic.py\u001b[0m in \u001b[0;36m<lambda>\u001b[0;34m(f, *a, **k)\u001b[0m\n\u001b[1;32m    185\u001b[0m     \u001b[0;31m# but it's overkill for just that one bit of state.\u001b[0m\u001b[0;34m\u001b[0m\u001b[0;34m\u001b[0m\u001b[0;34m\u001b[0m\u001b[0m\n\u001b[1;32m    186\u001b[0m     \u001b[0;32mdef\u001b[0m \u001b[0mmagic_deco\u001b[0m\u001b[0;34m(\u001b[0m\u001b[0marg\u001b[0m\u001b[0;34m)\u001b[0m\u001b[0;34m:\u001b[0m\u001b[0;34m\u001b[0m\u001b[0;34m\u001b[0m\u001b[0m\n\u001b[0;32m--> 187\u001b[0;31m         \u001b[0mcall\u001b[0m \u001b[0;34m=\u001b[0m \u001b[0;32mlambda\u001b[0m \u001b[0mf\u001b[0m\u001b[0;34m,\u001b[0m \u001b[0;34m*\u001b[0m\u001b[0ma\u001b[0m\u001b[0;34m,\u001b[0m \u001b[0;34m**\u001b[0m\u001b[0mk\u001b[0m\u001b[0;34m:\u001b[0m \u001b[0mf\u001b[0m\u001b[0;34m(\u001b[0m\u001b[0;34m*\u001b[0m\u001b[0ma\u001b[0m\u001b[0;34m,\u001b[0m \u001b[0;34m**\u001b[0m\u001b[0mk\u001b[0m\u001b[0;34m)\u001b[0m\u001b[0;34m\u001b[0m\u001b[0;34m\u001b[0m\u001b[0m\n\u001b[0m\u001b[1;32m    188\u001b[0m \u001b[0;34m\u001b[0m\u001b[0m\n\u001b[1;32m    189\u001b[0m         \u001b[0;32mif\u001b[0m \u001b[0mcallable\u001b[0m\u001b[0;34m(\u001b[0m\u001b[0marg\u001b[0m\u001b[0;34m)\u001b[0m\u001b[0;34m:\u001b[0m\u001b[0;34m\u001b[0m\u001b[0;34m\u001b[0m\u001b[0m\n",
      "\u001b[0;32m/opt/conda/lib/python3.7/site-packages/IPython/core/magics/script.py\u001b[0m in \u001b[0;36mshebang\u001b[0;34m(self, line, cell)\u001b[0m\n\u001b[1;32m    243\u001b[0m             \u001b[0msys\u001b[0m\u001b[0;34m.\u001b[0m\u001b[0mstderr\u001b[0m\u001b[0;34m.\u001b[0m\u001b[0mflush\u001b[0m\u001b[0;34m(\u001b[0m\u001b[0;34m)\u001b[0m\u001b[0;34m\u001b[0m\u001b[0;34m\u001b[0m\u001b[0m\n\u001b[1;32m    244\u001b[0m         \u001b[0;32mif\u001b[0m \u001b[0margs\u001b[0m\u001b[0;34m.\u001b[0m\u001b[0mraise_error\u001b[0m \u001b[0;32mand\u001b[0m \u001b[0mp\u001b[0m\u001b[0;34m.\u001b[0m\u001b[0mreturncode\u001b[0m\u001b[0;34m!=\u001b[0m\u001b[0;36m0\u001b[0m\u001b[0;34m:\u001b[0m\u001b[0;34m\u001b[0m\u001b[0;34m\u001b[0m\u001b[0m\n\u001b[0;32m--> 245\u001b[0;31m             \u001b[0;32mraise\u001b[0m \u001b[0mCalledProcessError\u001b[0m\u001b[0;34m(\u001b[0m\u001b[0mp\u001b[0m\u001b[0;34m.\u001b[0m\u001b[0mreturncode\u001b[0m\u001b[0;34m,\u001b[0m \u001b[0mcell\u001b[0m\u001b[0;34m,\u001b[0m \u001b[0moutput\u001b[0m\u001b[0;34m=\u001b[0m\u001b[0mout\u001b[0m\u001b[0;34m,\u001b[0m \u001b[0mstderr\u001b[0m\u001b[0;34m=\u001b[0m\u001b[0merr\u001b[0m\u001b[0;34m)\u001b[0m\u001b[0;34m\u001b[0m\u001b[0;34m\u001b[0m\u001b[0m\n\u001b[0m\u001b[1;32m    246\u001b[0m \u001b[0;34m\u001b[0m\u001b[0m\n\u001b[1;32m    247\u001b[0m     \u001b[0;32mdef\u001b[0m \u001b[0m_run_script\u001b[0m\u001b[0;34m(\u001b[0m\u001b[0mself\u001b[0m\u001b[0;34m,\u001b[0m \u001b[0mp\u001b[0m\u001b[0;34m,\u001b[0m \u001b[0mcell\u001b[0m\u001b[0;34m,\u001b[0m \u001b[0mto_close\u001b[0m\u001b[0;34m)\u001b[0m\u001b[0;34m:\u001b[0m\u001b[0;34m\u001b[0m\u001b[0;34m\u001b[0m\u001b[0m\n",
      "\u001b[0;31mCalledProcessError\u001b[0m: Command 'b'export PROJECT_ID=$(gcloud config get-value project)\\nPIPELINE_BUCKET=\"gs://quotes-pipeline-$PROJECT_ID\"\\npython quote_pipeline/pipeline.py \\\\\\n   --project $PROJECT_ID \\\\\\n   --region us-central1 \\\\\\n   --bqdataset quotesds \\\\\\n   --bqtable quotes \\\\\\n   --staginglocation $PIPELINE_BUCKET/staging \\\\\\n   --templocation $PIPELINE_BUCKET/temp \\\\\\n   --pubsubtopic projects/qwiklabs-gcp-04-2ad6a04dc593/topics/quotes \\\\\\n   --requirements_file quote_pipeline/requirements.txt \\n'' returned non-zero exit status 1."
     ]
    }
   ],
   "source": [
    "%%bash\n",
    "export PROJECT_ID=$(gcloud config get-value project)\n",
    "PIPELINE_BUCKET=\"gs://quotes-pipeline-$PROJECT_ID\"\n",
    "python quote_pipeline/pipeline.py \\\n",
    "   --project $PROJECT_ID \\\n",
    "   --region us-central1 \\\n",
    "   --bqdataset quotesds \\\n",
    "   --bqtable quotes \\\n",
    "   --staginglocation $PIPELINE_BUCKET/staging \\\n",
    "   --templocation $PIPELINE_BUCKET/temp \\\n",
    "   --pubsubtopic projects/qwiklabs-gcp-04-2ad6a04dc593/topics/quotes \\\n",
    "   --requirements_file quote_pipeline/requirements.txt "
   ]
  },
  {
   "cell_type": "markdown",
   "id": "a2bbaffb",
   "metadata": {},
   "source": [
    "Error from last run "
   ]
  },
  {
   "cell_type": "markdown",
   "id": "1107cd9a",
   "metadata": {},
   "source": [
    "Error message from worker: generic::unknown: Traceback (most recent call last):\n",
    "  File \"apache_beam/runners/common.py\", line 1239, in apache_beam.runners.common.DoFnRunner.process\n",
    "  File \"apache_beam/runners/common.py\", line 588, in apache_beam.runners.common.SimpleInvoker.invoke_process\n",
    "  File \"/opt/conda/lib/python3.7/site-packages/apache_beam/transforms/core.py\", line 1592, in <lambda>\n",
    "    wrapper = lambda x: [fn(x)]\n",
    "  File \"quote_pipeline/pipeline.py\", line 35, in analyze_quote\n",
    "AttributeError: module 'google.cloud.language' has no attribute 'Document'\n",
    "\n",
    "During handling of the above exception, another exception occurred:\n",
    "\n",
    "Traceback (most recent call last):\n",
    "  File \"/usr/local/lib/python3.7/site-packages/apache_beam/runners/worker/sdk_worker.py\", line 289, in _execute\n",
    "    response = task()\n",
    "  File \"/usr/local/lib/python3.7/site-packages/apache_beam/runners/worker/sdk_worker.py\", line 362, in <lambda>\n",
    "    lambda: self.create_worker().do_instruction(request), request)\n",
    "  File \"/usr/local/lib/python3.7/site-packages/apache_beam/runners/worker/sdk_worker.py\", line 607, in do_instruction\n",
    "    getattr(request, request_type), request.instruction_id)\n",
    "  File \"/usr/local/lib/python3.7/site-packages/apache_beam/runners/worker/sdk_worker.py\", line 644, in process_bundle\n",
    "    bundle_processor.process_bundle(instruction_id))\n",
    "  File \"/usr/local/lib/python3.7/site-packages/apache_beam/runners/worker/bundle_processor.py\", line 1000, in process_bundle\n",
    "    element.data)\n",
    "  File \"/usr/local/lib/python3.7/site-packages/apache_beam/runners/worker/bundle_processor.py\", line 228, in process_encoded\n",
    "    self.output(decoded_value)\n",
    "  File \"apache_beam/runners/worker/operations.py\", line 357, in apache_beam.runners.worker.operations.Operation.output\n",
    "  File \"apache_beam/runners/worker/operations.py\", line 359, in apache_beam.runners.worker.operations.Operation.output\n",
    "  File \"apache_beam/runners/worker/operations.py\", line 221, in apache_beam.runners.worker.operations.SingletonConsumerSet.receive\n",
    "  File \"apache_beam/runners/worker/operations.py\", line 718, in apache_beam.runners.worker.operations.DoOperation.process\n",
    "  File \"apache_beam/runners/worker/operations.py\", line 719, in apache_beam.runners.worker.operations.DoOperation.process\n",
    "  File \"apache_beam/runners/common.py\", line 1241, in apache_beam.runners.common.DoFnRunner.process\n",
    "  File \"apache_beam/runners/common.py\", line 1321, in apache_beam.runners.common.DoFnRunner._reraise_augmented\n",
    "  File \"/usr/local/lib/python3.7/site-packages/future/utils/__init__.py\", line 446, in raise_with_traceback\n",
    "    raise exc.with_traceback(traceback)\n",
    "  File \"apache_beam/runners/common.py\", line 1239, in apache_beam.runners.common.DoFnRunner.process\n",
    "  File \"apache_beam/runners/common.py\", line 588, in apache_beam.runners.common.SimpleInvoker.invoke_process\n",
    "  File \"/opt/conda/lib/python3.7/site-packages/apache_beam/transforms/core.py\", line 1592, in <lambda>\n",
    "    wrapper = lambda x: [fn(x)]\n",
    "  File \"quote_pipeline/pipeline.py\", line 35, in analyze_quote\n",
    "AttributeError: module 'google.cloud.language' has no attribute 'Document' [while running 'AnalyzeQuote-ptransform-42']\n",
    "\n",
    "passed through:\n",
    "==>\n",
    "    dist_proc/dax/workflow/worker/fnapi_service_impl.cc:644\n"
   ]
  },
  {
   "cell_type": "code",
   "execution_count": null,
   "id": "f842f65d",
   "metadata": {},
   "outputs": [],
   "source": []
  }
 ],
 "metadata": {
  "environment": {
   "name": "tf2-gpu.2-3.m76",
   "type": "gcloud",
   "uri": "gcr.io/deeplearning-platform-release/tf2-gpu.2-3:m76"
  },
  "kernelspec": {
   "display_name": "Python 3",
   "language": "python",
   "name": "python3"
  },
  "language_info": {
   "codemirror_mode": {
    "name": "ipython",
    "version": 3
   },
   "file_extension": ".py",
   "mimetype": "text/x-python",
   "name": "python",
   "nbconvert_exporter": "python",
   "pygments_lexer": "ipython3",
   "version": "3.7.10"
  }
 },
 "nbformat": 4,
 "nbformat_minor": 5
}
