{
 "cells": [
  {
   "cell_type": "markdown",
   "id": "66973098",
   "metadata": {},
   "source": [
    "## Dockerized Flask Based Quote Scraping App"
   ]
  },
  {
   "cell_type": "code",
   "execution_count": 1,
   "id": "34159ea1",
   "metadata": {},
   "outputs": [
    {
     "name": "stdout",
     "output_type": "stream",
     "text": [
      "total 24\n",
      "-rw-r--r-- 1 jupyter jupyter 212 Aug 16 17:19 Dockerfile\n",
      "-rw-r--r-- 1 jupyter jupyter 213 Aug 16 17:22 QuoteSentiment.ipynb\n",
      "-rw-r--r-- 1 jupyter jupyter 738 Aug 16 17:20 app.py\n",
      "-rw-r--r-- 1 jupyter jupyter  55 Aug 16 17:20 build-local.sh\n",
      "-rw-r--r-- 1 jupyter jupyter  98 Aug 16 17:20 requirements.txt\n",
      "-rw-r--r-- 1 jupyter jupyter  86 Aug 16 17:21 run.sh\n"
     ]
    }
   ],
   "source": [
    "!ls -l"
   ]
  },
  {
   "cell_type": "markdown",
   "id": "0ff65bc1",
   "metadata": {},
   "source": [
    "### First build docker image"
   ]
  },
  {
   "cell_type": "code",
   "execution_count": 2,
   "id": "6f098834",
   "metadata": {},
   "outputs": [
    {
     "name": "stdout",
     "output_type": "stream",
     "text": [
      "Sending build context to Docker daemon  12.29kB\n",
      "Step 1/7 : FROM python:3.8-alpine\n",
      "3.8-alpine: Pulling from library/python\n",
      "\n",
      "\u001b[1B1e31a76a: Pulling fs layer \n",
      "\u001b[1Ba090061d: Pulling fs layer \n",
      "\u001b[1B7c3958d0: Pulling fs layer \n",
      "\u001b[1B978a71b9: Pulling fs layer \n",
      "\u001b[1BDigest: sha256:77bf982037f934a692780626f7d52cbc5dcf6eb65ded24e2440210e508ded888[4A\u001b[2K\u001b[1A\u001b[2K\u001b[1A\u001b[2K\u001b[4A\u001b[2K\u001b[4A\u001b[2K\u001b[3A\u001b[2K\u001b[3A\u001b[2K\u001b[3A\u001b[2K\u001b[3A\u001b[2K\u001b[3A\u001b[2K\u001b[3A\u001b[2K\u001b[2A\u001b[2K\u001b[1A\u001b[2K\u001b[1A\u001b[2K\u001b[1A\u001b[2K\u001b[1A\u001b[2K\n",
      "Status: Downloaded newer image for python:3.8-alpine\n",
      " ---> 252da3e451af\n",
      "Step 2/7 : WORKDIR /app\n",
      " ---> Running in 3653f692f5dd\n",
      "Removing intermediate container 3653f692f5dd\n",
      " ---> f350291a8b18\n",
      "Step 3/7 : COPY requirements.txt requirements.txt\n",
      " ---> f89bec96a771\n",
      "Step 4/7 : RUN pip install --no-cache-dir -r requirements.txt\n",
      " ---> Running in 2b1b3f093a2d\n",
      "Collecting requests<2.27.0,>=2.26.0\n",
      "  Downloading requests-2.26.0-py2.py3-none-any.whl (62 kB)\n",
      "Collecting beautifulsoup4<4.10.0,>=4.9.3\n",
      "  Downloading beautifulsoup4-4.9.3-py3-none-any.whl (115 kB)\n",
      "Collecting pydantic<1.9.0,>=1.8.2\n",
      "  Downloading pydantic-1.8.2-py3-none-any.whl (126 kB)\n",
      "Collecting flask<2.1.0,>=2.0.1\n",
      "  Downloading Flask-2.0.1-py3-none-any.whl (94 kB)\n",
      "Collecting charset-normalizer~=2.0.0\n",
      "  Downloading charset_normalizer-2.0.4-py3-none-any.whl (36 kB)\n",
      "Collecting idna<4,>=2.5\n",
      "  Downloading idna-3.2-py3-none-any.whl (59 kB)\n",
      "Collecting certifi>=2017.4.17\n",
      "  Downloading certifi-2021.5.30-py2.py3-none-any.whl (145 kB)\n",
      "Collecting urllib3<1.27,>=1.21.1\n",
      "  Downloading urllib3-1.26.6-py2.py3-none-any.whl (138 kB)\n",
      "Collecting soupsieve>1.2\n",
      "  Downloading soupsieve-2.2.1-py3-none-any.whl (33 kB)\n",
      "Collecting typing-extensions>=3.7.4.3\n",
      "  Downloading typing_extensions-3.10.0.0-py3-none-any.whl (26 kB)\n",
      "Collecting Jinja2>=3.0\n",
      "  Downloading Jinja2-3.0.1-py3-none-any.whl (133 kB)\n",
      "Collecting click>=7.1.2\n",
      "  Downloading click-8.0.1-py3-none-any.whl (97 kB)\n",
      "Collecting itsdangerous>=2.0\n",
      "  Downloading itsdangerous-2.0.1-py3-none-any.whl (18 kB)\n",
      "Collecting Werkzeug>=2.0\n",
      "  Downloading Werkzeug-2.0.1-py3-none-any.whl (288 kB)\n",
      "Collecting MarkupSafe>=2.0\n",
      "  Downloading MarkupSafe-2.0.1.tar.gz (18 kB)\n",
      "Building wheels for collected packages: MarkupSafe\n",
      "  Building wheel for MarkupSafe (setup.py): started\n",
      "  Building wheel for MarkupSafe (setup.py): finished with status 'done'\n",
      "  Created wheel for MarkupSafe: filename=MarkupSafe-2.0.1-py3-none-any.whl size=9761 sha256=cfbfb342dbb5de0731f68979a89f320b13d060703e0cedcd3abf92bcd7b2f550\n",
      "  Stored in directory: /tmp/pip-ephem-wheel-cache-tjlb2kv8/wheels/fd/ac/52/de22dc1b1f975843caa5d0e8c817618b816345617c1b01039b\n",
      "Successfully built MarkupSafe\n",
      "Installing collected packages: MarkupSafe, Werkzeug, urllib3, typing-extensions, soupsieve, Jinja2, itsdangerous, idna, click, charset-normalizer, certifi, requests, pydantic, flask, beautifulsoup4\n",
      "Successfully installed Jinja2-3.0.1 MarkupSafe-2.0.1 Werkzeug-2.0.1 beautifulsoup4-4.9.3 certifi-2021.5.30 charset-normalizer-2.0.4 click-8.0.1 flask-2.0.1 idna-3.2 itsdangerous-2.0.1 pydantic-1.8.2 requests-2.26.0 soupsieve-2.2.1 typing-extensions-3.10.0.0 urllib3-1.26.6\n",
      "\u001b[91mWARNING: Running pip as the 'root' user can result in broken permissions and conflicting behaviour with the system package manager. It is recommended to use a virtual environment instead: https://pip.pypa.io/warnings/venv\n",
      "\u001b[0mRemoving intermediate container 2b1b3f093a2d\n",
      " ---> b2a7f074efd6\n",
      "Step 5/7 : COPY . .\n",
      " ---> 219111e91f0a\n",
      "Step 6/7 : EXPOSE 5000\n",
      " ---> Running in bd2280c81f52\n",
      "Removing intermediate container bd2280c81f52\n",
      " ---> ab752c38f5cc\n",
      "Step 7/7 : CMD [ \"python3\", \"-m\" , \"flask\", \"run\", \"--host=0.0.0.0\"]\n",
      " ---> Running in ea62beac554d\n",
      "Removing intermediate container ea62beac554d\n",
      " ---> 958e3f3e1b7c\n",
      "Successfully built 958e3f3e1b7c\n",
      "Successfully tagged quote-sentiment:0.1.0\n"
     ]
    }
   ],
   "source": [
    "! docker build -t quote-sentiment:0.1.0 ."
   ]
  },
  {
   "cell_type": "markdown",
   "id": "365352ec",
   "metadata": {},
   "source": [
    "### Make sure it was built"
   ]
  },
  {
   "cell_type": "code",
   "execution_count": 3,
   "id": "415454b6",
   "metadata": {},
   "outputs": [
    {
     "name": "stdout",
     "output_type": "stream",
     "text": [
      "REPOSITORY                                     TAG          IMAGE ID       CREATED          SIZE\n",
      "quote-sentiment                                0.1.0        958e3f3e1b7c   29 seconds ago   58.3MB\n",
      "gcr.io/qwiklabs-gcp-04-2ad6a04dc593/node-app   0.2          1bbb5cc97cbb   21 minutes ago   884MB\n",
      "python                                         3.8-alpine   252da3e451af   3 days ago       43.3MB\n",
      "gcr.io/inverting-proxy/agent                   <none>       fe507176d0e6   5 months ago     1.73GB\n"
     ]
    }
   ],
   "source": [
    "! docker images"
   ]
  },
  {
   "cell_type": "markdown",
   "id": "47fbd508",
   "metadata": {},
   "source": [
    "### Run quote-sentiment Image as Container"
   ]
  },
  {
   "cell_type": "code",
   "execution_count": 4,
   "id": "9ffc4039",
   "metadata": {},
   "outputs": [
    {
     "name": "stdout",
     "output_type": "stream",
     "text": [
      "4225f51a408196a514e08d8cfb9a6f519bfba6c4c9edf3028da7063d4bd3ce4e\n"
     ]
    }
   ],
   "source": [
    "! docker run -p 5000:5000 --name quote-sentiment -d quote-sentiment:0.1.0"
   ]
  },
  {
   "cell_type": "markdown",
   "id": "fe09d1ce",
   "metadata": {},
   "source": [
    "### I Like HTTPie as a CLI HTTP Client"
   ]
  },
  {
   "cell_type": "code",
   "execution_count": 5,
   "id": "0878dfb6",
   "metadata": {},
   "outputs": [
    {
     "name": "stdout",
     "output_type": "stream",
     "text": [
      "Collecting httpie\n",
      "  Downloading httpie-2.4.0-py3-none-any.whl (74 kB)\n",
      "\u001b[K     |████████████████████████████████| 74 kB 2.5 MB/s eta 0:00:011\n",
      "\u001b[?25hRequirement already satisfied: Pygments>=2.5.2 in /opt/conda/lib/python3.7/site-packages (from httpie) (2.9.0)\n",
      "Requirement already satisfied: requests-toolbelt>=0.9.1 in /opt/conda/lib/python3.7/site-packages (from httpie) (0.9.1)\n",
      "Requirement already satisfied: requests[socks]>=2.22.0 in /opt/conda/lib/python3.7/site-packages (from httpie) (2.25.1)\n",
      "Requirement already satisfied: idna<3,>=2.5 in /opt/conda/lib/python3.7/site-packages (from requests[socks]>=2.22.0->httpie) (2.10)\n",
      "Requirement already satisfied: certifi>=2017.4.17 in /opt/conda/lib/python3.7/site-packages (from requests[socks]>=2.22.0->httpie) (2021.5.30)\n",
      "Requirement already satisfied: urllib3<1.27,>=1.21.1 in /opt/conda/lib/python3.7/site-packages (from requests[socks]>=2.22.0->httpie) (1.26.6)\n",
      "Requirement already satisfied: chardet<5,>=3.0.2 in /opt/conda/lib/python3.7/site-packages (from requests[socks]>=2.22.0->httpie) (4.0.0)\n",
      "Requirement already satisfied: PySocks!=1.5.7,>=1.5.6 in /opt/conda/lib/python3.7/site-packages (from requests[socks]>=2.22.0->httpie) (1.7.1)\n",
      "Installing collected packages: httpie\n",
      "Successfully installed httpie-2.4.0\n"
     ]
    }
   ],
   "source": [
    "! pip install httpie"
   ]
  },
  {
   "cell_type": "markdown",
   "id": "f032f843",
   "metadata": {},
   "source": [
    "### Test Quote Sentiment App"
   ]
  },
  {
   "cell_type": "code",
   "execution_count": 7,
   "id": "3460a369",
   "metadata": {},
   "outputs": [
    {
     "name": "stdout",
     "output_type": "stream",
     "text": [
      "\u001b[34mHTTP\u001b[39;49;00m/\u001b[34m1.0\u001b[39;49;00m \u001b[34m200\u001b[39;49;00m \u001b[36mOK\u001b[39;49;00m\n",
      "\u001b[36mContent-Length\u001b[39;49;00m: 179\n",
      "\u001b[36mContent-Type\u001b[39;49;00m: application/json\n",
      "\u001b[36mDate\u001b[39;49;00m: Mon, 16 Aug 2021 17:29:02 GMT\n",
      "\u001b[36mServer\u001b[39;49;00m: Werkzeug/2.0.1 Python/3.8.11\n",
      "\n",
      "{\n",
      "    \u001b[94m\"author\"\u001b[39;49;00m: \u001b[33m\"Allen Saunders\"\u001b[39;49;00m,\n",
      "    \u001b[94m\"tags\"\u001b[39;49;00m: [\n",
      "        \u001b[33m\"fate\"\u001b[39;49;00m,\n",
      "        \u001b[33m\"life\"\u001b[39;49;00m,\n",
      "        \u001b[33m\"misattributed-john-lennon\"\u001b[39;49;00m,\n",
      "        \u001b[33m\"planning\"\u001b[39;49;00m,\n",
      "        \u001b[33m\"plans\"\u001b[39;49;00m\n",
      "    ],\n",
      "    \u001b[94m\"text\"\u001b[39;49;00m: \u001b[33m\"“Life is what happens to us while we are making other plans.”\"\u001b[39;49;00m\n",
      "}\n",
      "\n",
      "\n"
     ]
    }
   ],
   "source": [
    "! http localhost:5000"
   ]
  },
  {
   "cell_type": "code",
   "execution_count": 9,
   "id": "d148d14c",
   "metadata": {},
   "outputs": [
    {
     "name": "stdout",
     "output_type": "stream",
     "text": [
      "qwiklabs-gcp-04-2ad6a04dc593\n"
     ]
    }
   ],
   "source": [
    "%%bash\n",
    "export PROJECT_ID=$(gcloud config get-value project)\n",
    "echo $PROJECT_ID"
   ]
  },
  {
   "cell_type": "code",
   "execution_count": 14,
   "id": "0790c158",
   "metadata": {},
   "outputs": [],
   "source": [
    "! docker tag quote-sentiment:0.1.0 gcr.io/qwiklabs-gcp-04-2ad6a04dc593/quote-sentiment:0.1.0"
   ]
  },
  {
   "cell_type": "markdown",
   "id": "4da8d8ef",
   "metadata": {},
   "source": [
    "### Verify Its There then Push to GCR"
   ]
  },
  {
   "cell_type": "code",
   "execution_count": 15,
   "id": "37daed09",
   "metadata": {},
   "outputs": [
    {
     "name": "stdout",
     "output_type": "stream",
     "text": [
      "REPOSITORY                                            TAG          IMAGE ID       CREATED          SIZE\n",
      "quote-sentiment                                       0.1.0        958e3f3e1b7c   10 minutes ago   58.3MB\n",
      "gcr.io/qwiklabs-gcp-04-2ad6a04dc593/quote-sentiment   0.1.0        958e3f3e1b7c   10 minutes ago   58.3MB\n",
      "gcr.io/qwiklabs-gcp-04-2ad6a04dc593/node-app          0.2          1bbb5cc97cbb   31 minutes ago   884MB\n",
      "python                                                3.8-alpine   252da3e451af   3 days ago       43.3MB\n",
      "gcr.io/inverting-proxy/agent                          <none>       fe507176d0e6   5 months ago     1.73GB\n"
     ]
    }
   ],
   "source": [
    "!docker images"
   ]
  },
  {
   "cell_type": "code",
   "execution_count": 17,
   "id": "3fdf150b",
   "metadata": {},
   "outputs": [
    {
     "name": "stdout",
     "output_type": "stream",
     "text": [
      "The push refers to repository [gcr.io/qwiklabs-gcp-04-2ad6a04dc593/quote-sentiment]\n",
      "\n",
      "\u001b[1B6a433ecf: Preparing \n",
      "\u001b[1B72e44a90: Preparing \n",
      "\u001b[1B841f84e0: Preparing \n",
      "\u001b[1B9f3a8735: Preparing \n",
      "\u001b[1B48975ab2: Preparing \n",
      "\u001b[1B33a50237: Preparing \n",
      "\u001b[1Bb2423707: Preparing \n",
      "\u001b[1B56b239dd: Preparing \n",
      "\u001b[8B72e44a90: Pushed lready exists 2MB\u001b[8A\u001b[2K\u001b[8A\u001b[2K\u001b[8A\u001b[2K\u001b[8A\u001b[2K\u001b[8A\u001b[2K\u001b[8A\u001b[2K\u001b[5A\u001b[2K\u001b[8A\u001b[2K\u001b[8A\u001b[2K\u001b[8A\u001b[2K\u001b[8A\u001b[2K\u001b[8A\u001b[2K\u001b[3A\u001b[2K\u001b[8A\u001b[2K\u001b[8A\u001b[2K\u001b[7A\u001b[2K\u001b[8A\u001b[2K\u001b[1A\u001b[2K\u001b[8A\u001b[2K0.1.0: digest: sha256:23241978b8c5cf24447521024f507cc7b1e936423bd047320d029da35b1064ba size: 2201\n"
     ]
    }
   ],
   "source": [
    "! docker push gcr.io/qwiklabs-gcp-04-2ad6a04dc593/quote-sentiment:0.1.0"
   ]
  },
  {
   "cell_type": "markdown",
   "id": "96f82135",
   "metadata": {},
   "source": [
    "### Clean Up Local Images"
   ]
  },
  {
   "cell_type": "code",
   "execution_count": 30,
   "id": "d7f90c59",
   "metadata": {},
   "outputs": [
    {
     "name": "stdout",
     "output_type": "stream",
     "text": [
      "REPOSITORY                     TAG       IMAGE ID       CREATED          SIZE\n",
      "<none>                         <none>    1bbb5cc97cbb   38 minutes ago   884MB\n",
      "gcr.io/inverting-proxy/agent   <none>    fe507176d0e6   5 months ago     1.73GB\n"
     ]
    }
   ],
   "source": [
    "! docker images"
   ]
  },
  {
   "cell_type": "markdown",
   "id": "c65b6ef8",
   "metadata": {},
   "source": [
    "### Pull from GCR then Run it"
   ]
  },
  {
   "cell_type": "code",
   "execution_count": 31,
   "id": "fd44cfd1",
   "metadata": {},
   "outputs": [
    {
     "name": "stdout",
     "output_type": "stream",
     "text": [
      "0.1.0: Pulling from qwiklabs-gcp-04-2ad6a04dc593/quote-sentiment\n",
      "29291e31a76a: Pulling fs layer\n",
      "3626a090061d: Pulling fs layer\n",
      "d0ab7c3958d0: Pulling fs layer\n",
      "56d9978a71b9: Pulling fs layer\n",
      "09eaa9ae381f: Pulling fs layer\n",
      "9091096d242b: Pulling fs layer\n",
      "9b97fa26f75a: Pulling fs layer\n",
      "3abfa2f4eb7d: Pulling fs layer\n",
      "a886dba3fe4b: Pulling fs layer\n",
      "56d9978a71b9: Waiting\n",
      "09eaa9ae381f: Waiting\n",
      "9091096d242b: Waiting\n",
      "9b97fa26f75a: Waiting\n",
      "a886dba3fe4b: Waiting\n",
      "3abfa2f4eb7d: Waiting\n",
      "3626a090061d: Verifying Checksum\n",
      "3626a090061d: Download complete\n",
      "29291e31a76a: Verifying Checksum\n",
      "29291e31a76a: Download complete\n",
      "56d9978a71b9: Verifying Checksum\n",
      "56d9978a71b9: Download complete\n",
      "09eaa9ae381f: Verifying Checksum\n",
      "09eaa9ae381f: Download complete\n",
      "29291e31a76a: Pull complete\n",
      "9091096d242b: Verifying Checksum\n",
      "9091096d242b: Download complete\n",
      "9b97fa26f75a: Download complete\n",
      "d0ab7c3958d0: Verifying Checksum\n",
      "d0ab7c3958d0: Download complete\n",
      "a886dba3fe4b: Verifying Checksum\n",
      "a886dba3fe4b: Download complete\n",
      "3abfa2f4eb7d: Verifying Checksum\n",
      "3abfa2f4eb7d: Download complete\n",
      "3626a090061d: Pull complete\n",
      "d0ab7c3958d0: Pull complete\n",
      "56d9978a71b9: Pull complete\n",
      "09eaa9ae381f: Pull complete\n",
      "9091096d242b: Pull complete\n",
      "9b97fa26f75a: Pull complete\n",
      "3abfa2f4eb7d: Pull complete\n",
      "a886dba3fe4b: Pull complete\n",
      "Digest: sha256:23241978b8c5cf24447521024f507cc7b1e936423bd047320d029da35b1064ba\n",
      "Status: Downloaded newer image for gcr.io/qwiklabs-gcp-04-2ad6a04dc593/quote-sentiment:0.1.0\n",
      "gcr.io/qwiklabs-gcp-04-2ad6a04dc593/quote-sentiment:0.1.0\n",
      "d3128320f9eb62e62262b308251a3cf17cd7613bf266842244a375a9c105aa63\n"
     ]
    }
   ],
   "source": [
    "%%bash\n",
    "docker pull gcr.io/qwiklabs-gcp-04-2ad6a04dc593/quote-sentiment:0.1.0\n",
    "docker run -p 5000:5000 -d gcr.io/qwiklabs-gcp-04-2ad6a04dc593/quote-sentiment:0.1.0"
   ]
  },
  {
   "cell_type": "code",
   "execution_count": 32,
   "id": "cb756e18",
   "metadata": {},
   "outputs": [
    {
     "name": "stdout",
     "output_type": "stream",
     "text": [
      "\u001b[34mHTTP\u001b[39;49;00m/\u001b[34m1.0\u001b[39;49;00m \u001b[34m200\u001b[39;49;00m \u001b[36mOK\u001b[39;49;00m\n",
      "\u001b[36mContent-Length\u001b[39;49;00m: 147\n",
      "\u001b[36mContent-Type\u001b[39;49;00m: application/json\n",
      "\u001b[36mDate\u001b[39;49;00m: Mon, 16 Aug 2021 17:44:19 GMT\n",
      "\u001b[36mServer\u001b[39;49;00m: Werkzeug/2.0.1 Python/3.8.11\n",
      "\n",
      "{\n",
      "    \u001b[94m\"author\"\u001b[39;49;00m: \u001b[33m\"J.K. Rowling\"\u001b[39;49;00m,\n",
      "    \u001b[94m\"tags\"\u001b[39;49;00m: [\n",
      "        \u001b[33m\"death\"\u001b[39;49;00m,\n",
      "        \u001b[33m\"inspirational\"\u001b[39;49;00m\n",
      "    ],\n",
      "    \u001b[94m\"text\"\u001b[39;49;00m: \u001b[33m\"“To the well-organized mind, death is but the next great adventure.”\"\u001b[39;49;00m\n",
      "}\n",
      "\n",
      "\n"
     ]
    }
   ],
   "source": [
    "! http localhost:5000"
   ]
  },
  {
   "cell_type": "code",
   "execution_count": null,
   "id": "4341e9bc",
   "metadata": {},
   "outputs": [],
   "source": []
  }
 ],
 "metadata": {
  "environment": {
   "name": "tf2-gpu.2-3.m76",
   "type": "gcloud",
   "uri": "gcr.io/deeplearning-platform-release/tf2-gpu.2-3:m76"
  },
  "kernelspec": {
   "display_name": "Python 3",
   "language": "python",
   "name": "python3"
  },
  "language_info": {
   "codemirror_mode": {
    "name": "ipython",
    "version": 3
   },
   "file_extension": ".py",
   "mimetype": "text/x-python",
   "name": "python",
   "nbconvert_exporter": "python",
   "pygments_lexer": "ipython3",
   "version": "3.7.10"
  }
 },
 "nbformat": 4,
 "nbformat_minor": 5
}
