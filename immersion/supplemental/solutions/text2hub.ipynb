{
 "cells": [
  {
   "cell_type": "markdown",
   "metadata": {},
   "source": [
    "# Custom TF-Hub Word Embedding with text2hub\n",
    "\n",
    "**Learning Objectives:**\n",
    "  1. Learn how to deploy AI Hub Kubeflow pipeline\n",
    "  1. Learn how to configure the run parameters for text2hub\n",
    "  1. Learn how to inspect text2hub generated artifacts and word embeddings in TensorBoard\n",
    "  1. Learn how to run TF 1.x generated hub module in TF 2.0\n",
    "\n",
    "\n",
    "## Introduction\n",
    "\n",
    "\n",
    "Pre-trained text embeddings such as TF-Hub modules are a great tool for building machine learning models for text features, since they capture relationships between words. These embeddings are generally trained on vast but generic text corpora like Wikipedia or Google News, which means that they are usually very good at representing generic text, but not so much when the text comes from a very specialized domain with unique vocabulary, such as in the medical field.\n",
    "\n",
    "\n",
    "One problem in particular that arises when applying a TF-Hub text module which was pre-trained on a generic corpus to specialized text is that all of the unique, domain-specific words will be mapped to the same “out-of-vocabulary” (OOV) vector. By doing so we lose a very valuable part of the text information, because for specialized texts the most informative words are often the words that are very specific to that special domain. Another issue is that of commonly misspelled words from text gathered from say, customer feedback. Applying a generic pre-trained embedding will send the misspelled word to the OOV vectors, losing precious information. However, by creating a TF-Hub module tailored to the texts coming from that customer feedback means that common misspellings present in your real customer data will be part of the embedding vocabulary and should be close by closeby to the original word in the embedding space.\n",
    "\n",
    "\n",
    "In this notebook, we will learn how to generate a text TF-hub module specific to a particular domain using the text2hub Kubeflow pipeline available on Google AI Hub. This pipeline takes as input a corpus of text stored in a GCS bucket and outputs a TF-Hub module to a GCS bucket. The generated TF-Hub module can then be reused both in TF 1.x or in TF 2.0 code by referencing the output GCS bucket path when loading the module. \n",
    "\n",
    "Our first order of business will be to learn how to deploy a Kubeflow pipeline, namely text2hub, stored in AI Hub to a Kubeflow cluster. Then we will dig into the pipeline run parameter configuration and review the artifacts produced by the pipeline during its run. These artifacts are meant to help you assess how good the domain specific TF-hub module you generated is. In particular, we will  explore the embedding space visually using TensorBoard projector, which provides a tool to list the nearest neighbors to a given word in the embedding space.\n",
    "\n",
    "\n",
    "At last, we will explain how to run the generated module both in TF 1.x and TF 2.0. Running the module in TF 2.0 will necessite a small trick that’s useful to know in itself because it allows you to use all the TF 1.x modules in TF hub in TF 2.0 as a Keras layer. \n",
    "\n"
   ]
  },
  {
   "cell_type": "code",
   "execution_count": 1,
   "metadata": {},
   "outputs": [],
   "source": [
    "import os\n",
    "\n",
    "import tensorflow as tf\n",
    "import tensorflow_hub as hub"
   ]
  },
  {
   "cell_type": "markdown",
   "metadata": {},
   "source": [
    "Replace by your GCP project and bucket:"
   ]
  },
  {
   "cell_type": "code",
   "execution_count": 2,
   "metadata": {},
   "outputs": [],
   "source": [
    "PROJECT = \"qwiklabs-gcp-04-2ad6a04dc593\" # \"<your-gcp-project-here>\" # REPLACE WITH YOUR PROJECT NAME\n",
    "BUCKET = \"qwiklabs-gcp-04-2ad6a04dc593\" # \"<your-bucket-here>\" # REPLACE WITH YOUR BUCKET NAME\n",
    "\n",
    "os.environ[\"PROJECT\"] = PROJECT\n",
    "os.environ[\"BUCKET\"] = BUCKET"
   ]
  },
  {
   "cell_type": "code",
   "execution_count": 3,
   "metadata": {},
   "outputs": [
    {
     "name": "stdout",
     "output_type": "stream",
     "text": [
      "BucketNotFoundException: 404 gs://qwiklabs-gcp-04-2ad6a04dc593 bucket does not exist.\n",
      "Creating gs://qwiklabs-gcp-04-2ad6a04dc593/...\n"
     ]
    }
   ],
   "source": [
    "!gsutil ls gs://$BUCKET || gsutil mb gs://$BUCKET"
   ]
  },
  {
   "cell_type": "markdown",
   "metadata": {},
   "source": [
    "## Loading the dataset in GCS"
   ]
  },
  {
   "cell_type": "markdown",
   "metadata": {},
   "source": [
    "The corpus we chose is one of [Project Gutenberg medical texts](http://www.gutenberg.org/ebooks/bookshelf/48): [A Manual of the Operations of Surgery](http://www.gutenberg.org/ebooks/24564) by Joseph Bell, containing very specialized language. \n",
    "\n",
    "The first thing to do is to upload the text into a GCS bucket:"
   ]
  },
  {
   "cell_type": "code",
   "execution_count": 4,
   "metadata": {},
   "outputs": [
    {
     "name": "stderr",
     "output_type": "stream",
     "text": [
      "  % Total    % Received % Xferd  Average Speed   Time    Time     Time  Current\n",
      "                                 Dload  Upload   Total   Spent    Left  Speed\n",
      "100  608k  100  608k    0     0   872k      0 --:--:-- --:--:-- --:--:--  871k\n",
      "Copying file://surgery_manual.txt [Content-Type=text/plain]...\n",
      "/ [1 files][608.3 KiB/608.3 KiB]                                                \n",
      "Operation completed over 1 objects/608.3 KiB.                                    \n"
     ]
    }
   ],
   "source": [
    "%%bash\n",
    "\n",
    "URL=https://www.gutenberg.org/cache/epub/24564/pg24564.txt\n",
    "OUTDIR=gs://$BUCKET/custom_embedding\n",
    "CORPUS=surgery_manual.txt\n",
    "\n",
    "curl $URL > $CORPUS\n",
    "gsutil cp $CORPUS $OUTDIR/$CORPUS"
   ]
  },
  {
   "cell_type": "markdown",
   "metadata": {},
   "source": [
    "It has very specialized language such as \n",
    "\n",
    "```\n",
    "On the surface of the abdomen the position of this vessel would be \n",
    "indicated by a line drawn from about an inch on either side of the \n",
    "umbilicus to the middle of the space between the symphysis pubis \n",
    "and the crest of the ilium.\n",
    "```\n",
    "\n",
    "Now let's go over the steps involved in creating your own embedding from that corpus."
   ]
  },
  {
   "cell_type": "markdown",
   "metadata": {},
   "source": [
    "## Step 1: Download the `text2hub` pipeline from AI Hub (TODO 1)"
   ]
  },
  {
   "cell_type": "markdown",
   "metadata": {},
   "source": [
    "Go on [AI Hub](https://aihub.cloud.google.com/u/0/) and search for the `text2hub` pipeline, or just follow [this link](https://aihub.cloud.google.com/u/0/p/products%2F4a91d2d0-1fb8-4e79-adf7-a35707071195).\n",
    "You'll land onto a page describing `text2hub`. Click on the \"Download\" button on that page to download the Kubeflow pipeline and click `Accept`."
   ]
  },
  {
   "cell_type": "markdown",
   "metadata": {},
   "source": [
    "![img](./assets/text2hub_download.png)"
   ]
  },
  {
   "cell_type": "markdown",
   "metadata": {},
   "source": [
    "The text2hub pipeline is a KubeFlow pipeline that comprises three components; namely:\n",
    "\n",
    "\n",
    "* The **text2cooc** component that computes a word co-occurrence matrix\n",
    "from a corpus of text\n",
    "\n",
    "* The **cooc2emb** component that factorizes the\n",
    "co-occurrence matrix using [Swivel](https://arxiv.org/pdf/1602.02215.pdf) into\n",
    "the word embeddings exported as a tsv file\n",
    "\n",
    "* The **emb2hub** component that takes the word\n",
    "embedding file and generates a TF Hub module from it\n",
    "\n",
    "\n",
    "Each component is implemented as a Docker container image that's stored into Google Cloud Docker registry, [gcr.io](https://cloud.google.com/container-registry/). The `pipeline.tar.gz` file that you downloaded is a yaml description of how these containers need to be composed as well as where to find the corresponding images. \n",
    "\n",
    "**Remark:** Each component can be run individually as a single component pipeline in exactly the same manner as the `text2hub` pipeline. On AI Hub, each component has a pipeline page describing it and from where you can download the associated single component pipeline:\n",
    "\n",
    " * [text2cooc](https://aihub.cloud.google.com/u/0/p/products%2F6d998d56-741e-4154-8400-0b3103f2a9bc)\n",
    " * [cooc2emb](https://aihub.cloud.google.com/u/0/p/products%2Fda367ed9-3d70-4ca6-ad14-fd6bf4a913d9)\n",
    " * [emb2hub](https://aihub.cloud.google.com/u/0/p/products%2F1ef7e52c-5da5-437b-a061-31111ab55312)"
   ]
  },
  {
   "cell_type": "markdown",
   "metadata": {},
   "source": [
    "## Step 2: Upload the pipeline to the Kubeflow cluster (TODO 1)"
   ]
  },
  {
   "cell_type": "markdown",
   "metadata": {},
   "source": [
    "Go to your [Kubeflow cluster dashboard](https://console.cloud.google.com/ai-platform/pipelines/clusters) or navigate to `Navigation menu > AI Platform > Pipelines` and click `Open Pipelines Dashboard` then click on the `Pipelines` tab to create a new pipeline. You'll be prompted to upload the pipeline file you have just downloaded, click `Upload Pipeline`. Rename the generated pipeline name to be `text2hub` to keep things nice and clean."
   ]
  },
  {
   "cell_type": "markdown",
   "metadata": {},
   "source": [
    "![img](./assets/text2hub_upload1.png)"
   ]
  },
  {
   "cell_type": "markdown",
   "metadata": {},
   "source": [
    "## Step 3: Create a pipeline run (TODO 1)"
   ]
  },
  {
   "cell_type": "markdown",
   "metadata": {},
   "source": [
    "After uploading the pipeline, you should see `text2hub` appear on the pipeline list. Click on it. This will bring you to a page describing the pipeline (explore!) and allowing you to create a run. You can inspect the input and output parameters of each of the pipeline components by clicking on the component node in the graph representing the pipeline. Click `Create Run`."
   ]
  },
  {
   "cell_type": "markdown",
   "metadata": {},
   "source": [
    "![img](./assets/text2hub_run_creation.png)"
   ]
  },
  {
   "cell_type": "markdown",
   "metadata": {},
   "source": [
    "## Step 4: Enter the run parameters (TODO 2)"
   ]
  },
  {
   "cell_type": "markdown",
   "metadata": {},
   "source": [
    "`text2hub` has the following run parameters you can configure:\n",
    "\n",
    "Argument                                         | Description                                                                           | Optional | Data Type | Accepted values | Default\n",
    "------------------------------------------------ | ------------------------------------------------------------------------------------- | -------- | --------- | --------------- | -------\n",
    "gcs-path-to-the-text-corpus                      | A Cloud Storage location pattern (i.e., glob) where the text corpus will be read from | False    | String    | gs://...        | -\n",
    "gcs-directory-path-for-pipeline-output           | A Cloud Storage directory path where the pipeline output will be exported             | False    | String    | gs://...        | -\n",
    "number-of-epochs                                 | Number of epochs to train the embedding algorithm (Swivel) on                         | True     | Integer   | -               | 40\n",
    "embedding-dimension                              | Number of components of the generated embedding vectors                               | True     | Integer   | -               | 128\n",
    "co-occurrence-word-window-size                   | Size of the sliding word window where co-occurrences are extracted from               | True     | Integer   | -               | 10\n",
    "number-of-out-of-vocabulary-buckets              | Number of out-of-vocabulary buckets                                                   | True     | Integer   | -               | 1\n",
    "minimum-occurrences-for-a-token-to-be-considered | Minimum number of occurrences for a token to be included in the vocabulary            | True     | Integer   | -               | 5"
   ]
  },
  {
   "cell_type": "markdown",
   "metadata": {},
   "source": [
    "You can leave most parameters with their default values except for\n",
    "`gcs-path-to-the-test-corpus` whose value should be set to"
   ]
  },
  {
   "cell_type": "code",
   "execution_count": 5,
   "metadata": {},
   "outputs": [
    {
     "name": "stdout",
     "output_type": "stream",
     "text": [
      "gs://qwiklabs-gcp-04-2ad6a04dc593/custom_embedding/surgery_manual.txt\n"
     ]
    }
   ],
   "source": [
    "!echo gs://$BUCKET/custom_embedding/surgery_manual.txt"
   ]
  },
  {
   "cell_type": "markdown",
   "metadata": {},
   "source": [
    "and for `gcs-directory-path-for-pipeline-output` which we will set to"
   ]
  },
  {
   "cell_type": "code",
   "execution_count": 6,
   "metadata": {},
   "outputs": [
    {
     "name": "stdout",
     "output_type": "stream",
     "text": [
      "gs://qwiklabs-gcp-04-2ad6a04dc593/custom_embedding\n"
     ]
    }
   ],
   "source": [
    "!echo gs://$BUCKET/custom_embedding"
   ]
  },
  {
   "cell_type": "markdown",
   "metadata": {},
   "source": [
    "**Remark**: `gcs-path-to-the-test-corpus` will accept a GCS pattern like `gs://BUCKET/data/*.txt` or simply a path like `gs://BUCKET/data/` to a GCS directory. All the files that match the pattern or that are in that directory will be parsed to create the word embedding TF-Hub module. "
   ]
  },
  {
   "cell_type": "markdown",
   "metadata": {},
   "source": [
    "![img](./assets/text2hub_run_parameters1.png)"
   ]
  },
  {
   "cell_type": "markdown",
   "metadata": {},
   "source": [
    "Make sure to choose experiment `default`. Once these values have been set, you can start the run by clicking on `Start`."
   ]
  },
  {
   "cell_type": "markdown",
   "metadata": {},
   "source": [
    "## Step 5: Inspect the run artifacts (TODO 3)"
   ]
  },
  {
   "cell_type": "markdown",
   "metadata": {},
   "source": [
    "Once the run has started you can see its state by going to the `Experiments` tab and clicking on the name of the run (here \"text2hub-1\"). "
   ]
  },
  {
   "cell_type": "markdown",
   "metadata": {},
   "source": [
    "![img](assets/text2hub_experiment_list1.png)"
   ]
  },
  {
   "cell_type": "markdown",
   "metadata": {},
   "source": [
    "It will show you the pipeline graph. The components in green have successfuly completed. You can then click on them and look at the artifacts that these components have produced.\n",
    "\n",
    "The `text2cooc` components has \"co-occurrence extraction summary\" showing you the GCS path where the co-occurrence data has been saved. Their is a corresponding link that you can paste into your browser to inspect the co-occurrence data from the GCS browser. Some statistics about the vocabulary are given to you such as the most and least frequent tokens. You can also download the vocabulary file containing the token to be embedded. "
   ]
  },
  {
   "cell_type": "markdown",
   "metadata": {},
   "source": [
    "![img](assets/text2cooc_markdown_artifacts.png)"
   ]
  },
  {
   "cell_type": "markdown",
   "metadata": {},
   "source": [
    "The `cooc2emb` has three artifacts\n",
    "* An \"Embedding Extraction Summary\" providing the information as where the model chekpoints and the embedding tables are exported to on GCP\n",
    "* A similarity matrix from a random sample of words giving you an indication whether the model associates close-by vectors to similar words\n",
    "* An button to start TensorBoard from the UI to inspect the model and visualize the word embeddings"
   ]
  },
  {
   "cell_type": "markdown",
   "metadata": {},
   "source": [
    "![img](assets/cooc2emb_artifacts.png)"
   ]
  },
  {
   "cell_type": "markdown",
   "metadata": {},
   "source": [
    "We can have a look at the word embedding visualization provided by TensorBoard. Select the TF version: `TensorFlow 1.14.0`. Start TensorBoard by clicking on `Start Tensorboard` and then `Open Tensorboard` buttons, and then select \"Projector\".\n",
    "\n",
    "**Remark:** The projector tab may take some time to appear. If it takes too long it may be that your Kubeflow cluster is running an incompatible version of TensorBoard (your TB version should be between 1.13 and 1.15). If that's the case, just run Tensorboard from CloudShell or locally by issuing the following command."
   ]
  },
  {
   "cell_type": "code",
   "execution_count": null,
   "metadata": {},
   "outputs": [],
   "source": [
    "!echo tensorboard --port 8080 --logdir gs://$BUCKET/custom_embedding/embeddings"
   ]
  },
  {
   "cell_type": "markdown",
   "metadata": {},
   "source": [
    "The projector view will present you with a representation of the word vectors in a 3 dimensional space (the dim is reduced through PCA) that you can interact with. Enter in the search tool a few words like \"ilium\" and points in the 3D space will light up. "
   ]
  },
  {
   "cell_type": "markdown",
   "metadata": {},
   "source": [
    "![img](assets/cooc2emb_tb_search.png)"
   ]
  },
  {
   "cell_type": "markdown",
   "metadata": {},
   "source": [
    "If you click on a word vector, you'll see appear the n nearest neighbors of that word in the embedding space. The nearset neighbors are both visualized in the center panel and presented as a flat list on the right. \n",
    "\n",
    "Explore the nearest neighbors of a given word and see if they kind of make sense. This will give you a rough understanding of the embedding quality. If it nearest neighbors do not make sense after trying for a few key words, you may need rerun `text2hub`, but this time with either more epochs or more data. Reducing the embedding dimension may help as well as modifying the co-occurence window size (choose a size that make sense given how your corpus is split into lines.)\n"
   ]
  },
  {
   "cell_type": "markdown",
   "metadata": {},
   "source": [
    "![img](assets/cooc2emb_nn.png)"
   ]
  },
  {
   "cell_type": "markdown",
   "metadata": {},
   "source": [
    "The `emb2hub` artifacts give you a snippet of TensorFlow 1.x code showing you how to re-use the generated TF-Hub module in your code. We will demonstrate how to use the TF-Hub module in TF 2.0 in the next section."
   ]
  },
  {
   "cell_type": "markdown",
   "metadata": {},
   "source": [
    "![img](assets/emb2hub_artifacts.png)"
   ]
  },
  {
   "cell_type": "markdown",
   "metadata": {},
   "source": [
    "# Step 7: Using the generated TF-Hub module (TODO)"
   ]
  },
  {
   "cell_type": "markdown",
   "metadata": {},
   "source": [
    "Let's see now how to load the TF-Hub module generated by `text2hub` in TF 2.0.\n",
    "\n",
    "We first store the GCS bucket path where the TF-Hub module has been exported into a variable:"
   ]
  },
  {
   "cell_type": "code",
   "execution_count": 7,
   "metadata": {},
   "outputs": [
    {
     "data": {
      "text/plain": [
       "'gs://qwiklabs-gcp-04-2ad6a04dc593/custom_embedding/hub-module'"
      ]
     },
     "execution_count": 7,
     "metadata": {},
     "output_type": "execute_result"
    }
   ],
   "source": [
    "MODULE = \"gs://{bucket}/custom_embedding/hub-module\".format(bucket=BUCKET)\n",
    "MODULE"
   ]
  },
  {
   "cell_type": "markdown",
   "metadata": {},
   "source": [
    "Now we are ready to create a `KerasLayer` out of our custom text embedding."
   ]
  },
  {
   "cell_type": "code",
   "execution_count": 8,
   "metadata": {},
   "outputs": [],
   "source": [
    "med_embed = hub.KerasLayer(MODULE)"
   ]
  },
  {
   "cell_type": "markdown",
   "metadata": {},
   "source": [
    "That layer when called with a list of sentences will create a sentence vector for each sentence by averaging the word vectors of the sentence."
   ]
  },
  {
   "cell_type": "code",
   "execution_count": 9,
   "metadata": {},
   "outputs": [
    {
     "data": {
      "text/plain": [
       "<tf.Tensor: shape=(3, 128), dtype=float32, numpy=\n",
       "array([[-4.77759123e-01,  1.71165526e-01,  1.12745807e-01,\n",
       "        -2.32681394e-01, -2.04971135e-02,  2.80632734e-01,\n",
       "         3.33089441e-01, -8.87685344e-02, -3.94042909e-01,\n",
       "         5.88727817e-02,  3.90813291e-01, -4.09908533e-01,\n",
       "        -3.10035288e-01,  3.85489255e-01,  6.81672096e-01,\n",
       "         3.20574731e-01, -9.25862044e-02, -3.93084139e-01,\n",
       "         2.04533756e-01, -3.41776729e-01, -4.54620749e-01,\n",
       "         1.10452175e-01,  2.14785010e-01,  6.51789606e-01,\n",
       "         3.48187983e-01,  2.09833965e-01, -1.61221296e-01,\n",
       "        -3.45699668e-01,  6.54628575e-02, -1.65176019e-01,\n",
       "        -3.22046757e-01,  5.31898499e-01,  3.62560868e-01,\n",
       "         1.01834543e-01, -3.50427270e-01, -5.09465456e-01,\n",
       "        -1.48433387e-01, -4.82456386e-03, -5.35896420e-01,\n",
       "        -2.18456715e-01, -1.09107435e-01, -1.31863117e-01,\n",
       "         3.24117959e-01, -2.05150306e-01, -2.90318966e-01,\n",
       "         2.54459798e-01, -9.29379910e-02,  3.82004201e-01,\n",
       "         5.62652200e-03,  2.71408319e-01, -4.30926353e-01,\n",
       "        -3.36996645e-01,  3.03646177e-01, -3.65026563e-01,\n",
       "        -5.33841133e-01,  5.36080956e-01,  6.54913962e-01,\n",
       "        -2.63758123e-01,  2.95106530e-01,  3.88208568e-01,\n",
       "         5.67631006e-01, -2.44203225e-01, -2.88849533e-01,\n",
       "        -4.40986097e-01, -4.50838804e-02, -4.01848912e-01,\n",
       "        -3.55425477e-01, -4.83930767e-01, -4.00454551e-01,\n",
       "         4.28305209e-01, -1.11565724e-01, -1.36791870e-01,\n",
       "        -7.54520655e-01,  3.37898701e-01,  1.69850558e-01,\n",
       "        -2.00185984e-01,  4.81785327e-01, -1.71837598e-01,\n",
       "        -2.26892263e-01,  2.23854482e-02, -4.37601656e-01,\n",
       "        -2.98470050e-01,  1.96003675e-01, -1.47498459e-01,\n",
       "         1.13057055e-01,  3.09859842e-01, -5.56121945e-01,\n",
       "         1.36736751e-01, -4.02854949e-01,  5.04593253e-01,\n",
       "         2.89922684e-01,  7.93880373e-02, -2.18795314e-02,\n",
       "        -2.85968065e-01,  2.45964646e-01,  4.66323197e-01,\n",
       "         3.84517938e-01,  1.61123455e-01,  2.31607586e-01,\n",
       "        -2.16333538e-01, -3.35059941e-01,  1.35843128e-01,\n",
       "         2.23471463e-01, -8.33157077e-02,  4.21758711e-01,\n",
       "        -2.00252920e-01, -2.58466005e-01, -7.08793178e-02,\n",
       "        -2.20486581e-01,  3.74976426e-01,  2.43130863e-01,\n",
       "        -1.48964971e-01, -8.56523216e-03,  3.37562740e-01,\n",
       "         8.39507803e-02, -4.31661606e-01,  4.37014908e-01,\n",
       "        -3.84920478e-01,  1.96440428e-01, -2.18285203e-01,\n",
       "        -5.19012988e-01, -3.60994935e-01, -5.11833370e-01,\n",
       "        -3.08264732e-01, -2.60629326e-01,  3.35524291e-01,\n",
       "         4.50668514e-01,  1.36742562e-01],\n",
       "       [-7.30271041e-02,  2.50823013e-02,  5.50368190e-01,\n",
       "        -1.66244522e-01, -3.53811443e-01, -2.93588370e-01,\n",
       "        -6.91874981e-01, -1.24050200e-01, -1.01983145e-01,\n",
       "        -1.10700279e-01, -5.87125838e-01, -1.58180580e-01,\n",
       "         7.91209787e-02, -3.10877800e-01,  4.76762503e-01,\n",
       "         2.14771315e-01, -2.56304070e-03,  1.00342810e-01,\n",
       "        -6.49526566e-02, -2.21540481e-02,  6.79112673e-02,\n",
       "        -2.68974781e-01,  1.29141673e-01, -3.36141467e-01,\n",
       "         7.71887541e-01,  6.80712014e-02, -4.06514347e-01,\n",
       "         1.76506341e-02,  8.74782503e-02,  5.76086193e-02,\n",
       "        -1.54998109e-01,  1.95264071e-01,  5.83415031e-01,\n",
       "         4.37314421e-01, -2.18072772e-01,  6.45132065e-02,\n",
       "         4.34229016e-01, -1.40473992e-03, -7.44481534e-02,\n",
       "        -2.09978715e-01, -3.91155779e-01, -4.49535012e-01,\n",
       "        -5.10706186e-01,  1.59384280e-01,  3.89275193e-01,\n",
       "         1.40276715e-01, -3.19951773e-01, -4.85139370e-01,\n",
       "         1.47233263e-01, -2.16296017e-01,  8.56692940e-02,\n",
       "         2.16142938e-01, -3.79088521e-01, -9.58985686e-02,\n",
       "         2.84205675e-01,  1.86824709e-01,  3.15330774e-01,\n",
       "         3.09439823e-02,  1.15170524e-01, -3.13266575e-01,\n",
       "         9.21302140e-02, -1.76777914e-01,  2.07462579e-01,\n",
       "         1.64124548e-01, -1.93772584e-01,  1.16944179e-01,\n",
       "        -1.98899567e-01,  4.35332954e-01, -3.64354342e-01,\n",
       "        -6.20870709e-01, -1.87586501e-01,  4.10470426e-01,\n",
       "        -1.32966220e-01, -6.51218742e-02,  3.10099632e-01,\n",
       "         2.89709806e-01,  6.93934858e-01, -1.67065427e-01,\n",
       "         2.14352369e-01,  1.76370487e-01,  2.19946578e-01,\n",
       "         9.62309465e-02, -4.08044189e-01, -1.49746716e-01,\n",
       "         3.82607996e-01, -2.73683012e-01, -3.54622573e-01,\n",
       "        -2.40302563e-01,  1.42604053e-01,  4.58378524e-01,\n",
       "        -1.59174383e-01,  2.53076196e-01, -2.26677924e-01,\n",
       "         4.19977188e-01,  3.77366543e-02, -8.41125846e-04,\n",
       "         9.36891288e-02, -2.76849717e-01,  1.08425409e-01,\n",
       "        -4.19351250e-01, -1.28197759e-01, -2.06477508e-01,\n",
       "         2.63595954e-02, -4.59607005e-01,  1.91078007e-01,\n",
       "         1.45761088e-01,  2.68981345e-02, -3.41299415e-01,\n",
       "        -8.81455764e-02, -4.08769310e-01,  3.76981437e-01,\n",
       "         4.63520497e-01, -2.54911959e-01,  6.51636720e-02,\n",
       "         3.98571849e-01, -2.68298507e-01,  2.22676605e-01,\n",
       "         7.68466592e-02,  2.18644977e-01,  6.90852851e-03,\n",
       "         1.04335821e+00, -8.33896250e-02,  1.78768560e-01,\n",
       "         2.10728884e-01, -3.19822609e-01,  1.12689853e-01,\n",
       "         7.59182572e-01,  1.09202154e-01],\n",
       "       [ 7.05330595e-02, -2.15466827e-01,  1.81680202e-01,\n",
       "         3.90994996e-01, -3.42798173e-01,  1.28423333e-01,\n",
       "         8.64999145e-02, -1.64025456e-01,  3.29102874e-01,\n",
       "         5.21564782e-01, -7.41142333e-02,  2.73414552e-01,\n",
       "        -3.44232708e-01, -2.88208365e-01,  7.04295784e-02,\n",
       "        -4.67141792e-02,  1.75610989e-01,  4.49397415e-03,\n",
       "        -4.87749010e-01,  3.71219367e-01,  8.66948143e-02,\n",
       "         3.74530941e-01, -3.55988145e-01, -5.39839491e-02,\n",
       "         3.40223938e-01,  1.53163269e-01,  8.32057148e-02,\n",
       "        -2.54993200e-01,  1.73517838e-02,  2.60941982e-02,\n",
       "        -2.46195570e-01, -2.80350447e-04,  6.41727522e-02,\n",
       "         2.03182369e-01, -5.46117276e-02, -4.47406828e-01,\n",
       "        -1.36832088e-01,  2.43446738e-01, -7.87672922e-02,\n",
       "        -2.79820442e-01,  6.02833927e-03, -3.61188576e-02,\n",
       "         1.30057484e-01, -2.38592699e-02,  6.27173603e-01,\n",
       "        -2.06013680e-01, -2.74974078e-01, -1.89248681e-01,\n",
       "         6.96324766e-01, -1.35457680e-01, -2.55704969e-02,\n",
       "        -4.07201052e-01, -4.98456508e-01,  6.51686713e-02,\n",
       "        -2.48911798e-01,  1.45935446e-01, -2.77226955e-01,\n",
       "        -2.90681243e-01,  6.28392473e-02, -3.21477443e-01,\n",
       "         9.32071730e-02, -1.46453589e-01, -2.43714124e-01,\n",
       "         2.51567602e-01, -3.93116206e-01,  2.77006894e-01,\n",
       "         1.11792780e-01,  3.17745894e-01, -6.62600845e-02,\n",
       "        -2.59204805e-01,  2.47030199e-01,  2.07278967e-01,\n",
       "        -1.34345382e-01, -2.62022793e-01,  1.98616564e-01,\n",
       "         4.37085897e-01, -2.74894178e-01, -1.87787935e-01,\n",
       "        -3.86437699e-02, -1.98818594e-01,  3.24383825e-01,\n",
       "        -6.92372099e-02, -4.14357513e-01, -4.75569069e-01,\n",
       "         3.66975635e-01,  1.58788696e-01, -4.72570121e-01,\n",
       "        -4.54815835e-01, -7.30120093e-02,  3.00660312e-01,\n",
       "         2.42217153e-01,  5.35094365e-02,  8.93509462e-02,\n",
       "        -5.16134739e-01,  5.35029992e-02, -1.98546827e-01,\n",
       "        -9.06841382e-02,  5.13646305e-02,  3.04535985e-01,\n",
       "        -3.12405765e-01, -2.25691333e-01, -2.32775271e-01,\n",
       "        -4.02683556e-01, -5.96313253e-02, -7.62830675e-02,\n",
       "        -2.39902809e-02, -4.73368198e-01,  2.19441503e-01,\n",
       "        -2.74047032e-02, -3.98914307e-01,  1.59000143e-01,\n",
       "        -1.27944127e-01, -1.22350045e-01, -3.00056577e-01,\n",
       "        -1.78761080e-01,  3.54920208e-01,  4.78731915e-02,\n",
       "        -3.04818928e-01,  5.93324676e-02,  4.12994742e-01,\n",
       "         1.47910148e-01,  3.09216231e-03, -2.51240730e-01,\n",
       "         8.92310664e-02,  2.26535439e-01,  3.85137573e-02,\n",
       "        -4.06091288e-02,  1.91726446e-01]], dtype=float32)>"
      ]
     },
     "execution_count": 9,
     "metadata": {},
     "output_type": "execute_result"
    }
   ],
   "source": [
    "outputs = med_embed(tf.constant(['ilium', 'I have a fracture', 'aneurism']))\n",
    "outputs"
   ]
  },
  {
   "cell_type": "markdown",
   "metadata": {},
   "source": [
    "If you use a version of TensorFlow Hub smaller than `tensorflow-hub==0.7.0`, then you'll need to use the following wrapper to instanciate the `KerasLayer`:"
   ]
  },
  {
   "cell_type": "markdown",
   "metadata": {},
   "source": [
    "```python\n",
    "class Wrapper(tf.train.Checkpoint):\n",
    "    def __init__(self, spec):\n",
    "        super(Wrapper, self).__init__()\n",
    "        self.module = hub.load(spec)\n",
    "        self.variables = self.module.variables\n",
    "        self.trainable_variables = []\n",
    "    def __call__(self, x):\n",
    "        return self.module.signatures[\"default\"](x)[\"default\"]\n",
    "    \n",
    "med_embed = hub.KerasLayer(Wrapper(MODULE))\n",
    "```"
   ]
  },
  {
   "cell_type": "markdown",
   "metadata": {},
   "source": [
    "Copyright 2020 Google Inc. Licensed under the Apache License, Version 2.0 (the \"License\"); you may not use this file except in compliance with the License. You may obtain a copy of the License at http://www.apache.org/licenses/LICENSE-2.0 Unless required by applicable law or agreed to in writing, software distributed under the License is distributed on an \"AS IS\" BASIS, WITHOUT WARRANTIES OR CONDITIONS OF ANY KIND, either express or implied. See the License for the specific language governing permissions and limitations under the License"
   ]
  }
 ],
 "metadata": {
  "environment": {
   "name": "tf2-gpu.2-3.m76",
   "type": "gcloud",
   "uri": "gcr.io/deeplearning-platform-release/tf2-gpu.2-3:m76"
  },
  "kernelspec": {
   "display_name": "Python 3",
   "language": "python",
   "name": "python3"
  },
  "language_info": {
   "codemirror_mode": {
    "name": "ipython",
    "version": 3
   },
   "file_extension": ".py",
   "mimetype": "text/x-python",
   "name": "python",
   "nbconvert_exporter": "python",
   "pygments_lexer": "ipython3",
   "version": "3.7.10"
  }
 },
 "nbformat": 4,
 "nbformat_minor": 4
}
